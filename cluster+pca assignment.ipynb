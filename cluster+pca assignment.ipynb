{
 "cells": [
  {
   "cell_type": "code",
   "execution_count": 1,
   "metadata": {},
   "outputs": [],
   "source": [
    "import pandas as pd\n",
    "import numpy as np\n",
    "import matplotlib.pyplot as plt\n",
    "import seaborn as sns\n",
    "sns.set(style=\"white\")\n",
    "import warnings\n",
    "warnings.filterwarnings('ignore')\n",
    "\n",
    "%matplotlib inline\n",
    "\n",
    "# To Scale our data\n",
    "from sklearn.preprocessing import scale\n",
    "\n",
    "# To perform KMeans clustering \n",
    "from sklearn.cluster import KMeans\n"
   ]
  },
  {
   "cell_type": "markdown",
   "metadata": {},
   "source": [
    "Importing data"
   ]
  },
  {
   "cell_type": "code",
   "execution_count": 2,
   "metadata": {},
   "outputs": [
    {
     "data": {
      "text/html": [
       "<div>\n",
       "<style scoped>\n",
       "    .dataframe tbody tr th:only-of-type {\n",
       "        vertical-align: middle;\n",
       "    }\n",
       "\n",
       "    .dataframe tbody tr th {\n",
       "        vertical-align: top;\n",
       "    }\n",
       "\n",
       "    .dataframe thead th {\n",
       "        text-align: right;\n",
       "    }\n",
       "</style>\n",
       "<table border=\"1\" class=\"dataframe\">\n",
       "  <thead>\n",
       "    <tr style=\"text-align: right;\">\n",
       "      <th></th>\n",
       "      <th>country</th>\n",
       "      <th>child_mort</th>\n",
       "      <th>exports</th>\n",
       "      <th>health</th>\n",
       "      <th>imports</th>\n",
       "      <th>income</th>\n",
       "      <th>inflation</th>\n",
       "      <th>life_expec</th>\n",
       "      <th>total_fer</th>\n",
       "      <th>gdpp</th>\n",
       "    </tr>\n",
       "  </thead>\n",
       "  <tbody>\n",
       "    <tr>\n",
       "      <th>0</th>\n",
       "      <td>Afghanistan</td>\n",
       "      <td>90.2</td>\n",
       "      <td>10.0</td>\n",
       "      <td>7.58</td>\n",
       "      <td>44.9</td>\n",
       "      <td>1610</td>\n",
       "      <td>9.44</td>\n",
       "      <td>56.2</td>\n",
       "      <td>5.82</td>\n",
       "      <td>553</td>\n",
       "    </tr>\n",
       "    <tr>\n",
       "      <th>1</th>\n",
       "      <td>Albania</td>\n",
       "      <td>16.6</td>\n",
       "      <td>28.0</td>\n",
       "      <td>6.55</td>\n",
       "      <td>48.6</td>\n",
       "      <td>9930</td>\n",
       "      <td>4.49</td>\n",
       "      <td>76.3</td>\n",
       "      <td>1.65</td>\n",
       "      <td>4090</td>\n",
       "    </tr>\n",
       "    <tr>\n",
       "      <th>2</th>\n",
       "      <td>Algeria</td>\n",
       "      <td>27.3</td>\n",
       "      <td>38.4</td>\n",
       "      <td>4.17</td>\n",
       "      <td>31.4</td>\n",
       "      <td>12900</td>\n",
       "      <td>16.10</td>\n",
       "      <td>76.5</td>\n",
       "      <td>2.89</td>\n",
       "      <td>4460</td>\n",
       "    </tr>\n",
       "    <tr>\n",
       "      <th>3</th>\n",
       "      <td>Angola</td>\n",
       "      <td>119.0</td>\n",
       "      <td>62.3</td>\n",
       "      <td>2.85</td>\n",
       "      <td>42.9</td>\n",
       "      <td>5900</td>\n",
       "      <td>22.40</td>\n",
       "      <td>60.1</td>\n",
       "      <td>6.16</td>\n",
       "      <td>3530</td>\n",
       "    </tr>\n",
       "    <tr>\n",
       "      <th>4</th>\n",
       "      <td>Antigua and Barbuda</td>\n",
       "      <td>10.3</td>\n",
       "      <td>45.5</td>\n",
       "      <td>6.03</td>\n",
       "      <td>58.9</td>\n",
       "      <td>19100</td>\n",
       "      <td>1.44</td>\n",
       "      <td>76.8</td>\n",
       "      <td>2.13</td>\n",
       "      <td>12200</td>\n",
       "    </tr>\n",
       "  </tbody>\n",
       "</table>\n",
       "</div>"
      ],
      "text/plain": [
       "               country  child_mort  exports  health  imports  income  \\\n",
       "0          Afghanistan        90.2     10.0    7.58     44.9    1610   \n",
       "1              Albania        16.6     28.0    6.55     48.6    9930   \n",
       "2              Algeria        27.3     38.4    4.17     31.4   12900   \n",
       "3               Angola       119.0     62.3    2.85     42.9    5900   \n",
       "4  Antigua and Barbuda        10.3     45.5    6.03     58.9   19100   \n",
       "\n",
       "   inflation  life_expec  total_fer   gdpp  \n",
       "0       9.44        56.2       5.82    553  \n",
       "1       4.49        76.3       1.65   4090  \n",
       "2      16.10        76.5       2.89   4460  \n",
       "3      22.40        60.1       6.16   3530  \n",
       "4       1.44        76.8       2.13  12200  "
      ]
     },
     "execution_count": 2,
     "metadata": {},
     "output_type": "execute_result"
    }
   ],
   "source": [
    "df = pd.read_csv(r'C:\\Users\\chavali\\Desktop\\Data science\\clustering/Country-data.csv',sep=\",\", encoding=\"ISO-8859-1\", header=0)\n",
    "df1=df\n",
    "df1.head()"
   ]
  },
  {
   "cell_type": "code",
   "execution_count": 3,
   "metadata": {},
   "outputs": [
    {
     "name": "stdout",
     "output_type": "stream",
     "text": [
      "<class 'pandas.core.frame.DataFrame'>\n",
      "RangeIndex: 167 entries, 0 to 166\n",
      "Data columns (total 10 columns):\n",
      "country       167 non-null object\n",
      "child_mort    167 non-null float64\n",
      "exports       167 non-null float64\n",
      "health        167 non-null float64\n",
      "imports       167 non-null float64\n",
      "income        167 non-null int64\n",
      "inflation     167 non-null float64\n",
      "life_expec    167 non-null float64\n",
      "total_fer     167 non-null float64\n",
      "gdpp          167 non-null int64\n",
      "dtypes: float64(7), int64(2), object(1)\n",
      "memory usage: 13.1+ KB\n"
     ]
    }
   ],
   "source": [
    "df.info()"
   ]
  },
  {
   "cell_type": "code",
   "execution_count": 4,
   "metadata": {},
   "outputs": [
    {
     "data": {
      "text/plain": [
       "country       0\n",
       "child_mort    0\n",
       "exports       0\n",
       "health        0\n",
       "imports       0\n",
       "income        0\n",
       "inflation     0\n",
       "life_expec    0\n",
       "total_fer     0\n",
       "gdpp          0\n",
       "dtype: int64"
      ]
     },
     "execution_count": 4,
     "metadata": {},
     "output_type": "execute_result"
    }
   ],
   "source": [
    "df.isnull().sum()"
   ]
  },
  {
   "cell_type": "code",
   "execution_count": 5,
   "metadata": {},
   "outputs": [
    {
     "data": {
      "text/plain": [
       "Index(['country', 'child_mort', 'exports', 'health', 'imports', 'income',\n",
       "       'inflation', 'life_expec', 'total_fer', 'gdpp'],\n",
       "      dtype='object')"
      ]
     },
     "execution_count": 5,
     "metadata": {},
     "output_type": "execute_result"
    }
   ],
   "source": [
    "df.columns"
   ]
  },
  {
   "cell_type": "code",
   "execution_count": 6,
   "metadata": {},
   "outputs": [
    {
     "data": {
      "image/png": "[encoded data removed]",
      "text/plain": [
       "<Figure size 1080x2160 with 9 Axes>"
      ]
     },
     "metadata": {
      "needs_background": "light"
     },
     "output_type": "display_data"
    }
   ],
   "source": [
    "# checking for the outliers \n",
    "plt.figure(figsize=(15,30))\n",
    "features = ['child_mort', 'exports', 'health', 'imports', 'income', 'inflation', 'life_expec', 'total_fer', 'gdpp']\n",
    "for i in enumerate(features): \n",
    "    ax = plt.subplot(8, 2, i[0]+1)\n",
    "    sns.boxplot(x=i[1], data=df)\n",
    "    plt.xticks(rotation = 20)"
   ]
  },
  {
   "cell_type": "code",
   "execution_count": 7,
   "metadata": {},
   "outputs": [
    {
     "data": {
      "text/plain": [
       "(167, 10)"
      ]
     },
     "execution_count": 7,
     "metadata": {},
     "output_type": "execute_result"
    }
   ],
   "source": [
    "# outlier treatment \n",
    "\n",
    "Q1 = df['child_mort'].quantile(0.01)\n",
    "Q4 = df['child_mort'].quantile(0.97)\n",
    "df['child_mort'][df['child_mort'] >= Q4]=Q4\n",
    "df.shape"
   ]
  },
  {
   "cell_type": "code",
   "execution_count": 8,
   "metadata": {},
   "outputs": [
    {
     "data": {
      "text/plain": [
       "<matplotlib.axes._subplots.AxesSubplot at 0x2cdf9065e80>"
      ]
     },
     "execution_count": 8,
     "metadata": {},
     "output_type": "execute_result"
    },
    {
     "data": {
      "image/png": "[encoded data removed]",
      "text/plain": [
       "<Figure size 432x288 with 1 Axes>"
      ]
     },
     "metadata": {
      "needs_background": "light"
     },
     "output_type": "display_data"
    }
   ],
   "source": [
    "sns.boxplot(x='child_mort', data=df)"
   ]
  },
  {
   "cell_type": "code",
   "execution_count": 9,
   "metadata": {},
   "outputs": [
    {
     "data": {
      "text/plain": [
       "(167, 10)"
      ]
     },
     "execution_count": 9,
     "metadata": {},
     "output_type": "execute_result"
    }
   ],
   "source": [
    "# capping all the component depending on the outlier values\n",
    "Q1 = df['exports'].quantile(0.01)\n",
    "Q4 = df['exports'].quantile(0.97)\n",
    "df['exports'][df['exports'] >= Q4]=Q4\n",
    "df.shape"
   ]
  },
  {
   "cell_type": "code",
   "execution_count": 10,
   "metadata": {},
   "outputs": [
    {
     "data": {
      "text/plain": [
       "<matplotlib.axes._subplots.AxesSubplot at 0x2cdf9652a90>"
      ]
     },
     "execution_count": 10,
     "metadata": {},
     "output_type": "execute_result"
    },
    {
     "data": {
      "image/png": "[encoded data removed]",
      "text/plain": [
       "<Figure size 432x288 with 1 Axes>"
      ]
     },
     "metadata": {
      "needs_background": "light"
     },
     "output_type": "display_data"
    }
   ],
   "source": [
    "sns.boxplot(x='exports', data=df)"
   ]
  },
  {
   "cell_type": "code",
   "execution_count": 11,
   "metadata": {},
   "outputs": [
    {
     "data": {
      "text/plain": [
       "<matplotlib.axes._subplots.AxesSubplot at 0x2cdf96b2cc0>"
      ]
     },
     "execution_count": 11,
     "metadata": {},
     "output_type": "execute_result"
    },
    {
     "data": {
      "image/png": "[encoded data removed]",
      "text/plain": [
       "<Figure size 432x288 with 1 Axes>"
      ]
     },
     "metadata": {
      "needs_background": "light"
     },
     "output_type": "display_data"
    }
   ],
   "source": [
    "Q4 = df['health'].quantile(0.99)\n",
    "df['health'][df['health'] >= Q4]=Q4\n",
    "df.shape\n",
    "sns.boxplot(x='health', data=df)"
   ]
  },
  {
   "cell_type": "code",
   "execution_count": 12,
   "metadata": {},
   "outputs": [
    {
     "data": {
      "text/plain": [
       "<matplotlib.axes._subplots.AxesSubplot at 0x2cdf970ea20>"
      ]
     },
     "execution_count": 12,
     "metadata": {},
     "output_type": "execute_result"
    },
    {
     "data": {
      "image/png": "[encoded data removed]",
      "text/plain": [
       "<Figure size 432x288 with 1 Axes>"
      ]
     },
     "metadata": {
      "needs_background": "light"
     },
     "output_type": "display_data"
    }
   ],
   "source": [
    "Q4 = df['imports'].quantile(0.97)\n",
    "df['imports'][df['imports'] >= Q4]=Q4\n",
    "df.shape\n",
    "sns.boxplot(x='imports', data=df)"
   ]
  },
  {
   "cell_type": "code",
   "execution_count": 13,
   "metadata": {},
   "outputs": [
    {
     "data": {
      "text/plain": [
       "(167, 10)"
      ]
     },
     "execution_count": 13,
     "metadata": {},
     "output_type": "execute_result"
    }
   ],
   "source": [
    "Q4 = df['income'].quantile(0.95)\n",
    "df['income'][df['income'] >= Q4]=Q4\n",
    "df.shape"
   ]
  },
  {
   "cell_type": "code",
   "execution_count": 14,
   "metadata": {},
   "outputs": [
    {
     "data": {
      "text/plain": [
       "<matplotlib.axes._subplots.AxesSubplot at 0x2cdf9727eb8>"
      ]
     },
     "execution_count": 14,
     "metadata": {},
     "output_type": "execute_result"
    },
    {
     "data": {
      "image/png": "[encoded data removed]",
      "text/plain": [
       "<Figure size 432x288 with 1 Axes>"
      ]
     },
     "metadata": {
      "needs_background": "light"
     },
     "output_type": "display_data"
    }
   ],
   "source": [
    "sns.boxplot(x='income', data=df)"
   ]
  },
  {
   "cell_type": "code",
   "execution_count": 15,
   "metadata": {},
   "outputs": [
    {
     "data": {
      "text/plain": [
       "(167, 10)"
      ]
     },
     "execution_count": 15,
     "metadata": {},
     "output_type": "execute_result"
    }
   ],
   "source": [
    "Q4 = df['inflation'].quantile(0.97)\n",
    "df['inflation'][df['inflation'] >= Q4]=Q4\n",
    "df.shape"
   ]
  },
  {
   "cell_type": "code",
   "execution_count": 16,
   "metadata": {},
   "outputs": [
    {
     "data": {
      "text/plain": [
       "<matplotlib.axes._subplots.AxesSubplot at 0x2cdf97c75f8>"
      ]
     },
     "execution_count": 16,
     "metadata": {},
     "output_type": "execute_result"
    },
    {
     "data": {
      "image/png": "[encoded data removed]",
      "text/plain": [
       "<Figure size 432x288 with 1 Axes>"
      ]
     },
     "metadata": {
      "needs_background": "light"
     },
     "output_type": "display_data"
    }
   ],
   "source": [
    "sns.boxplot(x='inflation', data=df)"
   ]
  },
  {
   "cell_type": "code",
   "execution_count": 17,
   "metadata": {},
   "outputs": [
    {
     "data": {
      "text/plain": [
       "(167, 10)"
      ]
     },
     "execution_count": 17,
     "metadata": {},
     "output_type": "execute_result"
    }
   ],
   "source": [
    "Q1 = df['life_expec'].quantile(0.02)\n",
    "\n",
    "df['life_expec'][df['life_expec'] <= Q1]=Q1\n",
    "\n",
    "df.shape"
   ]
  },
  {
   "cell_type": "code",
   "execution_count": 18,
   "metadata": {},
   "outputs": [
    {
     "data": {
      "text/plain": [
       "<matplotlib.axes._subplots.AxesSubplot at 0x2cdf9833da0>"
      ]
     },
     "execution_count": 18,
     "metadata": {},
     "output_type": "execute_result"
    },
    {
     "data": {
      "image/png": "[encoded data removed]",
      "text/plain": [
       "<Figure size 432x288 with 1 Axes>"
      ]
     },
     "metadata": {
      "needs_background": "light"
     },
     "output_type": "display_data"
    }
   ],
   "source": [
    "sns.boxplot(x='life_expec', data=df)"
   ]
  },
  {
   "cell_type": "code",
   "execution_count": 19,
   "metadata": {},
   "outputs": [
    {
     "data": {
      "text/plain": [
       "(167, 10)"
      ]
     },
     "execution_count": 19,
     "metadata": {},
     "output_type": "execute_result"
    }
   ],
   "source": [
    "Q4 = df['total_fer'].quantile(0.99)\n",
    "df['total_fer'][df['total_fer'] >= Q4]=Q4\n",
    "df.shape\n"
   ]
  },
  {
   "cell_type": "code",
   "execution_count": 20,
   "metadata": {},
   "outputs": [
    {
     "data": {
      "text/plain": [
       "<matplotlib.axes._subplots.AxesSubplot at 0x2cdf9874278>"
      ]
     },
     "execution_count": 20,
     "metadata": {},
     "output_type": "execute_result"
    },
    {
     "data": {
      "image/png": "[encoded data removed]",
      "text/plain": [
       "<Figure size 432x288 with 1 Axes>"
      ]
     },
     "metadata": {
      "needs_background": "light"
     },
     "output_type": "display_data"
    }
   ],
   "source": [
    "sns.boxplot(x='total_fer', data=df)"
   ]
  },
  {
   "cell_type": "code",
   "execution_count": 21,
   "metadata": {},
   "outputs": [
    {
     "data": {
      "text/plain": [
       "(167, 10)"
      ]
     },
     "execution_count": 21,
     "metadata": {},
     "output_type": "execute_result"
    }
   ],
   "source": [
    "Q4 = df['gdpp'].quantile(0.85)\n",
    "df['gdpp'][df['gdpp'] >= Q4]=Q4\n",
    "df.shape"
   ]
  },
  {
   "cell_type": "code",
   "execution_count": 22,
   "metadata": {},
   "outputs": [
    {
     "data": {
      "text/plain": [
       "<matplotlib.axes._subplots.AxesSubplot at 0x2cdf98d6278>"
      ]
     },
     "execution_count": 22,
     "metadata": {},
     "output_type": "execute_result"
    },
    {
     "data": {
      "image/png": "[encoded data removed]",
      "text/plain": [
       "<Figure size 432x288 with 1 Axes>"
      ]
     },
     "metadata": {
      "needs_background": "light"
     },
     "output_type": "display_data"
    }
   ],
   "source": [
    "sns.boxplot(x='gdpp', data=df)"
   ]
  },
  {
   "cell_type": "code",
   "execution_count": 23,
   "metadata": {},
   "outputs": [],
   "source": [
    "Y=df['country']\n",
    "# removing the country for the PCA analysis"
   ]
  },
  {
   "cell_type": "code",
   "execution_count": 24,
   "metadata": {},
   "outputs": [],
   "source": [
    "df2= df1.drop('country', axis=1)"
   ]
  },
  {
   "cell_type": "code",
   "execution_count": 25,
   "metadata": {},
   "outputs": [
    {
     "name": "stdout",
     "output_type": "stream",
     "text": [
      "<class 'pandas.core.frame.DataFrame'>\n",
      "RangeIndex: 167 entries, 0 to 166\n",
      "Data columns (total 9 columns):\n",
      "child_mort    167 non-null float64\n",
      "exports       167 non-null float64\n",
      "health        167 non-null float64\n",
      "imports       167 non-null float64\n",
      "income        167 non-null float64\n",
      "inflation     167 non-null float64\n",
      "life_expec    167 non-null float64\n",
      "total_fer     167 non-null float64\n",
      "gdpp          167 non-null float64\n",
      "dtypes: float64(9)\n",
      "memory usage: 11.8 KB\n",
      "None\n"
     ]
    }
   ],
   "source": [
    "print(df2.info())"
   ]
  },
  {
   "cell_type": "markdown",
   "metadata": {},
   "source": [
    "Applying the standard scaler and scaling all the numerical columns"
   ]
  },
  {
   "cell_type": "code",
   "execution_count": 26,
   "metadata": {},
   "outputs": [],
   "source": [
    "from sklearn.preprocessing import StandardScaler\n",
    "standard_scaler = StandardScaler()\n",
    "df3 = standard_scaler.fit_transform(df2)"
   ]
  },
  {
   "cell_type": "code",
   "execution_count": 27,
   "metadata": {},
   "outputs": [
    {
     "data": {
      "text/plain": [
       "2.534118080579271"
      ]
     },
     "execution_count": 27,
     "metadata": {},
     "output_type": "execute_result"
    }
   ],
   "source": [
    "df3.max()"
   ]
  },
  {
   "cell_type": "code",
   "execution_count": 28,
   "metadata": {},
   "outputs": [
    {
     "data": {
      "text/plain": [
       "child_mort    4.144239e-04\n",
       "exports       1.284068e-04\n",
       "health        2.061438e-06\n",
       "imports       1.137406e-04\n",
       "income        6.430452e+01\n",
       "inflation     1.306177e-05\n",
       "life_expec    2.039977e-05\n",
       "total_fer     6.602263e-07\n",
       "gdpp          3.569479e+01\n",
       "dtype: float64"
      ]
     },
     "execution_count": 28,
     "metadata": {},
     "output_type": "execute_result"
    }
   ],
   "source": [
    "#checking the variance \n",
    "\n",
    "100*df2.var()/sum(df2.var())"
   ]
  },
  {
   "cell_type": "code",
   "execution_count": 29,
   "metadata": {},
   "outputs": [
    {
     "data": {
      "text/plain": [
       "PCA(copy=True, iterated_power='auto', n_components=None, random_state=42,\n",
       "    svd_solver='randomized', tol=0.0, whiten=False)"
      ]
     },
     "execution_count": 29,
     "metadata": {},
     "output_type": "execute_result"
    }
   ],
   "source": [
    "#Importing the PCA module\n",
    "from sklearn.decomposition import PCA\n",
    "pca = PCA(svd_solver = 'randomized', random_state =42)\n",
    "pca.fit(df3)"
   ]
  },
  {
   "cell_type": "code",
   "execution_count": 30,
   "metadata": {},
   "outputs": [
    {
     "data": {
      "text/plain": [
       "-0.41993471380885367"
      ]
     },
     "execution_count": 30,
     "metadata": {},
     "output_type": "execute_result"
    }
   ],
   "source": [
    "#first coponent of the first vector obtained from pca.components_\n",
    "pca.components_[0][0]"
   ]
  },
  {
   "cell_type": "code",
   "execution_count": 31,
   "metadata": {},
   "outputs": [
    {
     "data": {
      "text/plain": [
       "array([0.49318936, 0.16377964, 0.13763064, 0.09333062, 0.06473377,\n",
       "       0.01926046, 0.01591411, 0.00896491, 0.00319648])"
      ]
     },
     "execution_count": 31,
     "metadata": {},
     "output_type": "execute_result"
    }
   ],
   "source": [
    "#What is the variance explained by the first principal component\n",
    "pca.explained_variance_ratio_"
   ]
  },
  {
   "cell_type": "code",
   "execution_count": 32,
   "metadata": {},
   "outputs": [
    {
     "data": {
      "text/plain": [
       "Text(0, 0.5, 'Cumulative Variance')"
      ]
     },
     "execution_count": 32,
     "metadata": {},
     "output_type": "execute_result"
    },
    {
     "data": {
      "image/png": "[encoded data removed]",
      "text/plain": [
       "<Figure size 720x576 with 1 Axes>"
      ]
     },
     "metadata": {
      "needs_background": "light"
     },
     "output_type": "display_data"
    }
   ],
   "source": [
    "#Plotting the scree plot\n",
    "%matplotlib inline\n",
    "fig = plt.figure(figsize = (10,8))\n",
    "plt.plot([1,2,3,4,5,6,7,8,9],np.cumsum(pca.explained_variance_ratio_))\n",
    "plt.xlabel('Number of Coponents')\n",
    "plt.ylabel('Cumulative Variance')"
   ]
  },
  {
   "cell_type": "code",
   "execution_count": 33,
   "metadata": {},
   "outputs": [
    {
     "data": {
      "text/plain": [
       "<BarContainer object of 9 artists>"
      ]
     },
     "execution_count": 33,
     "metadata": {},
     "output_type": "execute_result"
    },
    {
     "data": {
      "image/png": "[encoded data removed]",
      "text/plain": [
       "<Figure size 432x288 with 1 Axes>"
      ]
     },
     "metadata": {
      "needs_background": "light"
     },
     "output_type": "display_data"
    }
   ],
   "source": [
    "plt.bar(range(1,len(pca.explained_variance_ratio_)+1), pca.explained_variance_ratio_)"
   ]
  },
  {
   "cell_type": "markdown",
   "metadata": {},
   "source": [
    "# Run PCA components with 5 as there is bent near 5 "
   ]
  },
  {
   "cell_type": "code",
   "execution_count": 34,
   "metadata": {},
   "outputs": [],
   "source": [
    "#Finally let's go ahead and do dimenstionality reduction\n",
    "from sklearn.decomposition import IncrementalPCA\n",
    "pca_final = IncrementalPCA(n_components = 5)"
   ]
  },
  {
   "cell_type": "code",
   "execution_count": 35,
   "metadata": {},
   "outputs": [
    {
     "data": {
      "text/plain": [
       "(167, 5)"
      ]
     },
     "execution_count": 35,
     "metadata": {},
     "output_type": "execute_result"
    }
   ],
   "source": [
    "df_pca = pca_final.fit_transform(df3)\n",
    "df_pca.shape"
   ]
  },
  {
   "cell_type": "code",
   "execution_count": 36,
   "metadata": {},
   "outputs": [],
   "source": [
    "pc  = pd.DataFrame(df_pca)\n",
    "pca_df2 = pd.DataFrame({'PC1': pc[0], 'PC2':pc[1],'PC3':pc[2],'PC4':pc[3],'PC5':pc[4]})"
   ]
  },
  {
   "cell_type": "code",
   "execution_count": 37,
   "metadata": {},
   "outputs": [
    {
     "data": {
      "text/html": [
       "<div>\n",
       "<style scoped>\n",
       "    .dataframe tbody tr th:only-of-type {\n",
       "        vertical-align: middle;\n",
       "    }\n",
       "\n",
       "    .dataframe tbody tr th {\n",
       "        vertical-align: top;\n",
       "    }\n",
       "\n",
       "    .dataframe thead th {\n",
       "        text-align: right;\n",
       "    }\n",
       "</style>\n",
       "<table border=\"1\" class=\"dataframe\">\n",
       "  <thead>\n",
       "    <tr style=\"text-align: right;\">\n",
       "      <th></th>\n",
       "      <th>PC1</th>\n",
       "      <th>PC2</th>\n",
       "      <th>PC3</th>\n",
       "      <th>PC4</th>\n",
       "      <th>PC5</th>\n",
       "    </tr>\n",
       "  </thead>\n",
       "  <tbody>\n",
       "    <tr>\n",
       "      <th>0</th>\n",
       "      <td>-3.234466</td>\n",
       "      <td>-0.262520</td>\n",
       "      <td>1.040764</td>\n",
       "      <td>0.792771</td>\n",
       "      <td>-0.042866</td>\n",
       "    </tr>\n",
       "    <tr>\n",
       "      <th>1</th>\n",
       "      <td>0.444781</td>\n",
       "      <td>-0.182664</td>\n",
       "      <td>0.319087</td>\n",
       "      <td>-1.393728</td>\n",
       "      <td>0.192975</td>\n",
       "    </tr>\n",
       "    <tr>\n",
       "      <th>2</th>\n",
       "      <td>-0.413538</td>\n",
       "      <td>-0.628562</td>\n",
       "      <td>-1.630752</td>\n",
       "      <td>-0.618805</td>\n",
       "      <td>0.563179</td>\n",
       "    </tr>\n",
       "    <tr>\n",
       "      <th>3</th>\n",
       "      <td>-3.368252</td>\n",
       "      <td>1.032355</td>\n",
       "      <td>-2.187211</td>\n",
       "      <td>1.733318</td>\n",
       "      <td>0.111973</td>\n",
       "    </tr>\n",
       "    <tr>\n",
       "      <th>4</th>\n",
       "      <td>1.286826</td>\n",
       "      <td>0.589943</td>\n",
       "      <td>0.138072</td>\n",
       "      <td>-0.695091</td>\n",
       "      <td>-0.389084</td>\n",
       "    </tr>\n",
       "  </tbody>\n",
       "</table>\n",
       "</div>"
      ],
      "text/plain": [
       "        PC1       PC2       PC3       PC4       PC5\n",
       "0 -3.234466 -0.262520  1.040764  0.792771 -0.042866\n",
       "1  0.444781 -0.182664  0.319087 -1.393728  0.192975\n",
       "2 -0.413538 -0.628562 -1.630752 -0.618805  0.563179\n",
       "3 -3.368252  1.032355 -2.187211  1.733318  0.111973\n",
       "4  1.286826  0.589943  0.138072 -0.695091 -0.389084"
      ]
     },
     "execution_count": 37,
     "metadata": {},
     "output_type": "execute_result"
    }
   ],
   "source": [
    "pca_df2.head()"
   ]
  },
  {
   "cell_type": "code",
   "execution_count": 38,
   "metadata": {},
   "outputs": [],
   "source": [
    "pca_df2 = pd.DataFrame({'country': list(Y),'PC1': pc[0], 'PC2':pc[1],'PC3':pc[2],'PC4':pc[3],'PC5':pc[4]})\n",
    "#added the country column back "
   ]
  },
  {
   "cell_type": "code",
   "execution_count": 39,
   "metadata": {},
   "outputs": [
    {
     "data": {
      "text/html": [
       "<div>\n",
       "<style scoped>\n",
       "    .dataframe tbody tr th:only-of-type {\n",
       "        vertical-align: middle;\n",
       "    }\n",
       "\n",
       "    .dataframe tbody tr th {\n",
       "        vertical-align: top;\n",
       "    }\n",
       "\n",
       "    .dataframe thead th {\n",
       "        text-align: right;\n",
       "    }\n",
       "</style>\n",
       "<table border=\"1\" class=\"dataframe\">\n",
       "  <thead>\n",
       "    <tr style=\"text-align: right;\">\n",
       "      <th></th>\n",
       "      <th>country</th>\n",
       "      <th>PC1</th>\n",
       "      <th>PC2</th>\n",
       "      <th>PC3</th>\n",
       "      <th>PC4</th>\n",
       "      <th>PC5</th>\n",
       "    </tr>\n",
       "  </thead>\n",
       "  <tbody>\n",
       "    <tr>\n",
       "      <th>0</th>\n",
       "      <td>Afghanistan</td>\n",
       "      <td>-3.234466</td>\n",
       "      <td>-0.262520</td>\n",
       "      <td>1.040764</td>\n",
       "      <td>0.792771</td>\n",
       "      <td>-0.042866</td>\n",
       "    </tr>\n",
       "    <tr>\n",
       "      <th>1</th>\n",
       "      <td>Albania</td>\n",
       "      <td>0.444781</td>\n",
       "      <td>-0.182664</td>\n",
       "      <td>0.319087</td>\n",
       "      <td>-1.393728</td>\n",
       "      <td>0.192975</td>\n",
       "    </tr>\n",
       "    <tr>\n",
       "      <th>2</th>\n",
       "      <td>Algeria</td>\n",
       "      <td>-0.413538</td>\n",
       "      <td>-0.628562</td>\n",
       "      <td>-1.630752</td>\n",
       "      <td>-0.618805</td>\n",
       "      <td>0.563179</td>\n",
       "    </tr>\n",
       "    <tr>\n",
       "      <th>3</th>\n",
       "      <td>Angola</td>\n",
       "      <td>-3.368252</td>\n",
       "      <td>1.032355</td>\n",
       "      <td>-2.187211</td>\n",
       "      <td>1.733318</td>\n",
       "      <td>0.111973</td>\n",
       "    </tr>\n",
       "    <tr>\n",
       "      <th>4</th>\n",
       "      <td>Antigua and Barbuda</td>\n",
       "      <td>1.286826</td>\n",
       "      <td>0.589943</td>\n",
       "      <td>0.138072</td>\n",
       "      <td>-0.695091</td>\n",
       "      <td>-0.389084</td>\n",
       "    </tr>\n",
       "  </tbody>\n",
       "</table>\n",
       "</div>"
      ],
      "text/plain": [
       "               country       PC1       PC2       PC3       PC4       PC5\n",
       "0          Afghanistan -3.234466 -0.262520  1.040764  0.792771 -0.042866\n",
       "1              Albania  0.444781 -0.182664  0.319087 -1.393728  0.192975\n",
       "2              Algeria -0.413538 -0.628562 -1.630752 -0.618805  0.563179\n",
       "3               Angola -3.368252  1.032355 -2.187211  1.733318  0.111973\n",
       "4  Antigua and Barbuda  1.286826  0.589943  0.138072 -0.695091 -0.389084"
      ]
     },
     "execution_count": 39,
     "metadata": {},
     "output_type": "execute_result"
    }
   ],
   "source": [
    "pca_df2.head()"
   ]
  },
  {
   "cell_type": "markdown",
   "metadata": {},
   "source": [
    "# Clustering"
   ]
  },
  {
   "cell_type": "code",
   "execution_count": 40,
   "metadata": {},
   "outputs": [],
   "source": [
    "#Calculating the Hopkins statistic\n",
    "from sklearn.neighbors import NearestNeighbors\n",
    "from random import sample\n",
    "from numpy.random import uniform\n",
    "import numpy as np\n",
    "from math import isnan\n",
    " \n",
    "def hopkins(X):\n",
    "    d = X.shape[1]\n",
    "    #d = len(vars) # columns\n",
    "    n = len(X) # rows\n",
    "    m = int(0.1 * n) \n",
    "    nbrs = NearestNeighbors(n_neighbors=1).fit(X.values)\n",
    " \n",
    "    rand_X = sample(range(0, n, 1), m)\n",
    " \n",
    "    ujd = []\n",
    "    wjd = []\n",
    "    for j in range(0, m):\n",
    "        u_dist, _ = nbrs.kneighbors(uniform(np.amin(X,axis=0),np.amax(X,axis=0),d).reshape(1, -1), 2, return_distance=True)\n",
    "        ujd.append(u_dist[0][1])\n",
    "        w_dist, _ = nbrs.kneighbors(X.iloc[rand_X[j]].values.reshape(1, -1), 2, return_distance=True)\n",
    "        wjd.append(w_dist[0][1])\n",
    " \n",
    "    H = sum(ujd) / (sum(ujd) + sum(wjd))\n",
    "    if isnan(H):\n",
    "        print(ujd, wjd)\n",
    "        H = 0\n",
    " \n",
    "    return H"
   ]
  },
  {
   "cell_type": "code",
   "execution_count": 41,
   "metadata": {},
   "outputs": [
    {
     "data": {
      "text/plain": [
       "0.7498356036545146"
      ]
     },
     "execution_count": 41,
     "metadata": {},
     "output_type": "execute_result"
    }
   ],
   "source": [
    "hopkins(pca_df2.drop('country', axis = 1))"
   ]
  },
  {
   "cell_type": "code",
   "execution_count": 42,
   "metadata": {},
   "outputs": [],
   "source": [
    "dat3_1 = pca_df2.drop('country', axis = 1)"
   ]
  },
  {
   "cell_type": "code",
   "execution_count": 43,
   "metadata": {},
   "outputs": [
    {
     "data": {
      "text/html": [
       "<div>\n",
       "<style scoped>\n",
       "    .dataframe tbody tr th:only-of-type {\n",
       "        vertical-align: middle;\n",
       "    }\n",
       "\n",
       "    .dataframe tbody tr th {\n",
       "        vertical-align: top;\n",
       "    }\n",
       "\n",
       "    .dataframe thead th {\n",
       "        text-align: right;\n",
       "    }\n",
       "</style>\n",
       "<table border=\"1\" class=\"dataframe\">\n",
       "  <thead>\n",
       "    <tr style=\"text-align: right;\">\n",
       "      <th></th>\n",
       "      <th>PC1</th>\n",
       "      <th>PC2</th>\n",
       "      <th>PC3</th>\n",
       "      <th>PC4</th>\n",
       "      <th>PC5</th>\n",
       "    </tr>\n",
       "  </thead>\n",
       "  <tbody>\n",
       "    <tr>\n",
       "      <th>0</th>\n",
       "      <td>-3.234466</td>\n",
       "      <td>-0.262520</td>\n",
       "      <td>1.040764</td>\n",
       "      <td>0.792771</td>\n",
       "      <td>-0.042866</td>\n",
       "    </tr>\n",
       "    <tr>\n",
       "      <th>1</th>\n",
       "      <td>0.444781</td>\n",
       "      <td>-0.182664</td>\n",
       "      <td>0.319087</td>\n",
       "      <td>-1.393728</td>\n",
       "      <td>0.192975</td>\n",
       "    </tr>\n",
       "    <tr>\n",
       "      <th>2</th>\n",
       "      <td>-0.413538</td>\n",
       "      <td>-0.628562</td>\n",
       "      <td>-1.630752</td>\n",
       "      <td>-0.618805</td>\n",
       "      <td>0.563179</td>\n",
       "    </tr>\n",
       "    <tr>\n",
       "      <th>3</th>\n",
       "      <td>-3.368252</td>\n",
       "      <td>1.032355</td>\n",
       "      <td>-2.187211</td>\n",
       "      <td>1.733318</td>\n",
       "      <td>0.111973</td>\n",
       "    </tr>\n",
       "    <tr>\n",
       "      <th>4</th>\n",
       "      <td>1.286826</td>\n",
       "      <td>0.589943</td>\n",
       "      <td>0.138072</td>\n",
       "      <td>-0.695091</td>\n",
       "      <td>-0.389084</td>\n",
       "    </tr>\n",
       "  </tbody>\n",
       "</table>\n",
       "</div>"
      ],
      "text/plain": [
       "        PC1       PC2       PC3       PC4       PC5\n",
       "0 -3.234466 -0.262520  1.040764  0.792771 -0.042866\n",
       "1  0.444781 -0.182664  0.319087 -1.393728  0.192975\n",
       "2 -0.413538 -0.628562 -1.630752 -0.618805  0.563179\n",
       "3 -3.368252  1.032355 -2.187211  1.733318  0.111973\n",
       "4  1.286826  0.589943  0.138072 -0.695091 -0.389084"
      ]
     },
     "execution_count": 43,
     "metadata": {},
     "output_type": "execute_result"
    }
   ],
   "source": [
    "dat3_1.head()"
   ]
  },
  {
   "cell_type": "code",
   "execution_count": 44,
   "metadata": {},
   "outputs": [
    {
     "data": {
      "image/png": "[encoded data removed]",
      "text/plain": [
       "<Figure size 432x288 with 1 Axes>"
      ]
     },
     "metadata": {
      "needs_background": "light"
     },
     "output_type": "display_data"
    }
   ],
   "source": [
    "#First we'll do the silhouette score analysis\n",
    "from sklearn.metrics import silhouette_score\n",
    "ss = []\n",
    "for k in range(2,10):\n",
    "    kmeans = KMeans(n_clusters = k).fit(dat3_1)\n",
    "    ss.append([k, silhouette_score(dat3_1, kmeans.labels_)])\n",
    "    \n",
    "plt.plot(pd.DataFrame(ss)[0], pd.DataFrame(ss)[1]);\n"
   ]
  },
  {
   "cell_type": "code",
   "execution_count": 45,
   "metadata": {},
   "outputs": [
    {
     "data": {
      "image/png": "[encoded data removed]",
      "text/plain": [
       "<Figure size 432x288 with 1 Axes>"
      ]
     },
     "metadata": {
      "needs_background": "light"
     },
     "output_type": "display_data"
    }
   ],
   "source": [
    "#Now let's proceed to the elbow curve method\n",
    "ssd = []\n",
    "for k in list(range(1,10)):\n",
    "    model = KMeans(n_clusters = k, max_iter = 50).fit(dat3_1)\n",
    "    ssd.append([k, model.inertia_])\n",
    "    \n",
    "plt.plot(pd.DataFrame(ssd)[0], pd.DataFrame(ssd)[1]);"
   ]
  },
  {
   "cell_type": "code",
   "execution_count": 46,
   "metadata": {},
   "outputs": [
    {
     "name": "stdout",
     "output_type": "stream",
     "text": [
      "For n_clusters=2, the silhouette score is 0.3076653161186857\n",
      "For n_clusters=3, the silhouette score is 0.2970740194299999\n",
      "For n_clusters=4, the silhouette score is 0.26864363537781133\n",
      "For n_clusters=5, the silhouette score is 0.2735138880882302\n",
      "For n_clusters=6, the silhouette score is 0.2925727573060393\n",
      "For n_clusters=7, the silhouette score is 0.2856387286294381\n",
      "For n_clusters=8, the silhouette score is 0.2931667655991551\n",
      "For n_clusters=9, the silhouette score is 0.28124160427197564\n"
     ]
    }
   ],
   "source": [
    "# silhouette analysis\n",
    "from sklearn.metrics import silhouette_score\n",
    "\n",
    "for num_clusters in list(range(2,10)):\n",
    "    \n",
    "    # intialise kmeans\n",
    "    kmeans = KMeans(n_clusters=num_clusters, max_iter=50)\n",
    "    kmeans.fit(dat3_1)\n",
    "    \n",
    "    cluster_labels = kmeans.labels_\n",
    "    \n",
    "    # silhouette score\n",
    "    silhouette_avg = silhouette_score(dat3_1, cluster_labels)\n",
    "    print(\"For n_clusters={0}, the silhouette score is {1}\".format(num_clusters, silhouette_avg))"
   ]
  },
  {
   "cell_type": "code",
   "execution_count": 47,
   "metadata": {},
   "outputs": [
    {
     "data": {
      "text/plain": [
       "KMeans(algorithm='auto', copy_x=True, init='k-means++', max_iter=50,\n",
       "       n_clusters=3, n_init=10, n_jobs=None, precompute_distances='auto',\n",
       "       random_state=50, tol=0.0001, verbose=0)"
      ]
     },
     "execution_count": 47,
     "metadata": {},
     "output_type": "execute_result"
    }
   ],
   "source": [
    "# performed the clustering with 3 as per the silhouette and elbow curve \n",
    "model_clus2 = KMeans(n_clusters = 3, max_iter = 50, random_state = 50)\n",
    "model_clus2.fit(dat3_1)"
   ]
  },
  {
   "cell_type": "code",
   "execution_count": 48,
   "metadata": {},
   "outputs": [
    {
     "data": {
      "text/html": [
       "<div>\n",
       "<style scoped>\n",
       "    .dataframe tbody tr th:only-of-type {\n",
       "        vertical-align: middle;\n",
       "    }\n",
       "\n",
       "    .dataframe tbody tr th {\n",
       "        vertical-align: top;\n",
       "    }\n",
       "\n",
       "    .dataframe thead th {\n",
       "        text-align: right;\n",
       "    }\n",
       "</style>\n",
       "<table border=\"1\" class=\"dataframe\">\n",
       "  <thead>\n",
       "    <tr style=\"text-align: right;\">\n",
       "      <th></th>\n",
       "      <th>country</th>\n",
       "      <th>PC1</th>\n",
       "      <th>PC2</th>\n",
       "      <th>PC3</th>\n",
       "      <th>PC4</th>\n",
       "      <th>PC5</th>\n",
       "      <th>ClusterID</th>\n",
       "    </tr>\n",
       "  </thead>\n",
       "  <tbody>\n",
       "    <tr>\n",
       "      <th>0</th>\n",
       "      <td>Afghanistan</td>\n",
       "      <td>-3.234466</td>\n",
       "      <td>-0.262520</td>\n",
       "      <td>1.040764</td>\n",
       "      <td>0.792771</td>\n",
       "      <td>-0.042866</td>\n",
       "      <td>0</td>\n",
       "    </tr>\n",
       "    <tr>\n",
       "      <th>1</th>\n",
       "      <td>Albania</td>\n",
       "      <td>0.444781</td>\n",
       "      <td>-0.182664</td>\n",
       "      <td>0.319087</td>\n",
       "      <td>-1.393728</td>\n",
       "      <td>0.192975</td>\n",
       "      <td>1</td>\n",
       "    </tr>\n",
       "    <tr>\n",
       "      <th>2</th>\n",
       "      <td>Algeria</td>\n",
       "      <td>-0.413538</td>\n",
       "      <td>-0.628562</td>\n",
       "      <td>-1.630752</td>\n",
       "      <td>-0.618805</td>\n",
       "      <td>0.563179</td>\n",
       "      <td>1</td>\n",
       "    </tr>\n",
       "    <tr>\n",
       "      <th>3</th>\n",
       "      <td>Angola</td>\n",
       "      <td>-3.368252</td>\n",
       "      <td>1.032355</td>\n",
       "      <td>-2.187211</td>\n",
       "      <td>1.733318</td>\n",
       "      <td>0.111973</td>\n",
       "      <td>0</td>\n",
       "    </tr>\n",
       "    <tr>\n",
       "      <th>4</th>\n",
       "      <td>Antigua and Barbuda</td>\n",
       "      <td>1.286826</td>\n",
       "      <td>0.589943</td>\n",
       "      <td>0.138072</td>\n",
       "      <td>-0.695091</td>\n",
       "      <td>-0.389084</td>\n",
       "      <td>1</td>\n",
       "    </tr>\n",
       "  </tbody>\n",
       "</table>\n",
       "</div>"
      ],
      "text/plain": [
       "               country       PC1       PC2       PC3       PC4       PC5  \\\n",
       "0          Afghanistan -3.234466 -0.262520  1.040764  0.792771 -0.042866   \n",
       "1              Albania  0.444781 -0.182664  0.319087 -1.393728  0.192975   \n",
       "2              Algeria -0.413538 -0.628562 -1.630752 -0.618805  0.563179   \n",
       "3               Angola -3.368252  1.032355 -2.187211  1.733318  0.111973   \n",
       "4  Antigua and Barbuda  1.286826  0.589943  0.138072 -0.695091 -0.389084   \n",
       "\n",
       "   ClusterID  \n",
       "0          0  \n",
       "1          1  \n",
       "2          1  \n",
       "3          0  \n",
       "4          1  "
      ]
     },
     "execution_count": 48,
     "metadata": {},
     "output_type": "execute_result"
    }
   ],
   "source": [
    "dat_km = pd.concat([pca_df2.reset_index().drop('index', axis = 1), pd.Series(model_clus2.labels_)], axis = 1)\n",
    "dat_km.columns = ['country', 'PC1', 'PC2','PC3','PC4','PC5','ClusterID']\n",
    "dat_km.head()\n",
    "# added the cluster ID to the Data set "
   ]
  },
  {
   "cell_type": "code",
   "execution_count": 49,
   "metadata": {},
   "outputs": [
    {
     "data": {
      "text/plain": [
       "1    79\n",
       "0    47\n",
       "2    41\n",
       "Name: ClusterID, dtype: int64"
      ]
     },
     "execution_count": 49,
     "metadata": {},
     "output_type": "execute_result"
    }
   ],
   "source": [
    "dat_km['ClusterID'].value_counts()\n",
    "# the cluster which require the aid has 79 countries\n"
   ]
  },
  {
   "cell_type": "code",
   "execution_count": 50,
   "metadata": {},
   "outputs": [
    {
     "data": {
      "text/plain": [
       "<matplotlib.axes._subplots.AxesSubplot at 0x2cdf9af2710>"
      ]
     },
     "execution_count": 50,
     "metadata": {},
     "output_type": "execute_result"
    },
    {
     "data": {
      "image/png": "[encoded data removed]",
      "text/plain": [
       "<Figure size 432x288 with 1 Axes>"
      ]
     },
     "metadata": {
      "needs_background": "light"
     },
     "output_type": "display_data"
    }
   ],
   "source": [
    "sns.scatterplot(x = 'PC1', y = 'PC2', hue ='ClusterID', legend = 'full', data = dat_km, palette='Set1')\n",
    "#all the clusters are seperated mostly and are not overlapping "
   ]
  },
  {
   "cell_type": "code",
   "execution_count": 51,
   "metadata": {},
   "outputs": [
    {
     "data": {
      "text/plain": [
       "<matplotlib.axes._subplots.AxesSubplot at 0x2cdf9d2fda0>"
      ]
     },
     "execution_count": 51,
     "metadata": {},
     "output_type": "execute_result"
    },
    {
     "data": {
      "image/png": "[encoded data removed]",
      "text/plain": [
       "<Figure size 432x288 with 1 Axes>"
      ]
     },
     "metadata": {
      "needs_background": "light"
     },
     "output_type": "display_data"
    }
   ],
   "source": [
    "sns.scatterplot(x = 'PC1', y = 'PC3', hue ='ClusterID', legend = 'full', data = dat_km, palette='Set2')"
   ]
  },
  {
   "cell_type": "code",
   "execution_count": 52,
   "metadata": {},
   "outputs": [
    {
     "data": {
      "text/plain": [
       "<matplotlib.axes._subplots.AxesSubplot at 0x2cdf9dbc240>"
      ]
     },
     "execution_count": 52,
     "metadata": {},
     "output_type": "execute_result"
    },
    {
     "data": {
      "image/png": "[encoded data removed]",
      "text/plain": [
       "<Figure size 432x288 with 1 Axes>"
      ]
     },
     "metadata": {
      "needs_background": "light"
     },
     "output_type": "display_data"
    }
   ],
   "source": [
    "sns.scatterplot(x = 'PC1', y = 'PC4', hue ='ClusterID', legend = 'full', data = dat_km, palette='Set3')"
   ]
  },
  {
   "cell_type": "code",
   "execution_count": 53,
   "metadata": {},
   "outputs": [
    {
     "data": {
      "text/plain": [
       "<matplotlib.axes._subplots.AxesSubplot at 0x2cdf9e21c50>"
      ]
     },
     "execution_count": 53,
     "metadata": {},
     "output_type": "execute_result"
    },
    {
     "data": {
      "image/png": "[encoded data removed]",
      "text/plain": [
       "<Figure size 432x288 with 1 Axes>"
      ]
     },
     "metadata": {
      "needs_background": "light"
     },
     "output_type": "display_data"
    }
   ],
   "source": [
    "sns.scatterplot(x = 'PC1', y = 'PC5', hue ='ClusterID', legend = 'full', data = dat_km)"
   ]
  },
  {
   "cell_type": "markdown",
   "metadata": {},
   "source": [
    "# Cluster Profiling"
   ]
  },
  {
   "cell_type": "code",
   "execution_count": 54,
   "metadata": {},
   "outputs": [
    {
     "data": {
      "text/html": [
       "<div>\n",
       "<style scoped>\n",
       "    .dataframe tbody tr th:only-of-type {\n",
       "        vertical-align: middle;\n",
       "    }\n",
       "\n",
       "    .dataframe tbody tr th {\n",
       "        vertical-align: top;\n",
       "    }\n",
       "\n",
       "    .dataframe thead th {\n",
       "        text-align: right;\n",
       "    }\n",
       "</style>\n",
       "<table border=\"1\" class=\"dataframe\">\n",
       "  <thead>\n",
       "    <tr style=\"text-align: right;\">\n",
       "      <th></th>\n",
       "      <th>country</th>\n",
       "      <th>child_mort</th>\n",
       "      <th>exports</th>\n",
       "      <th>health</th>\n",
       "      <th>imports</th>\n",
       "      <th>income</th>\n",
       "      <th>inflation</th>\n",
       "      <th>life_expec</th>\n",
       "      <th>total_fer</th>\n",
       "      <th>gdpp</th>\n",
       "      <th>PC1</th>\n",
       "      <th>PC2</th>\n",
       "      <th>PC3</th>\n",
       "      <th>PC4</th>\n",
       "      <th>PC5</th>\n",
       "      <th>ClusterID</th>\n",
       "    </tr>\n",
       "  </thead>\n",
       "  <tbody>\n",
       "    <tr>\n",
       "      <th>0</th>\n",
       "      <td>Afghanistan</td>\n",
       "      <td>90.2</td>\n",
       "      <td>10.0</td>\n",
       "      <td>7.58</td>\n",
       "      <td>44.9</td>\n",
       "      <td>1610.0</td>\n",
       "      <td>9.44</td>\n",
       "      <td>56.2</td>\n",
       "      <td>5.82</td>\n",
       "      <td>553.0</td>\n",
       "      <td>-3.234466</td>\n",
       "      <td>-0.262520</td>\n",
       "      <td>1.040764</td>\n",
       "      <td>0.792771</td>\n",
       "      <td>-0.042866</td>\n",
       "      <td>0</td>\n",
       "    </tr>\n",
       "    <tr>\n",
       "      <th>1</th>\n",
       "      <td>Albania</td>\n",
       "      <td>16.6</td>\n",
       "      <td>28.0</td>\n",
       "      <td>6.55</td>\n",
       "      <td>48.6</td>\n",
       "      <td>9930.0</td>\n",
       "      <td>4.49</td>\n",
       "      <td>76.3</td>\n",
       "      <td>1.65</td>\n",
       "      <td>4090.0</td>\n",
       "      <td>0.444781</td>\n",
       "      <td>-0.182664</td>\n",
       "      <td>0.319087</td>\n",
       "      <td>-1.393728</td>\n",
       "      <td>0.192975</td>\n",
       "      <td>1</td>\n",
       "    </tr>\n",
       "    <tr>\n",
       "      <th>2</th>\n",
       "      <td>Algeria</td>\n",
       "      <td>27.3</td>\n",
       "      <td>38.4</td>\n",
       "      <td>4.17</td>\n",
       "      <td>31.4</td>\n",
       "      <td>12900.0</td>\n",
       "      <td>16.10</td>\n",
       "      <td>76.5</td>\n",
       "      <td>2.89</td>\n",
       "      <td>4460.0</td>\n",
       "      <td>-0.413538</td>\n",
       "      <td>-0.628562</td>\n",
       "      <td>-1.630752</td>\n",
       "      <td>-0.618805</td>\n",
       "      <td>0.563179</td>\n",
       "      <td>1</td>\n",
       "    </tr>\n",
       "    <tr>\n",
       "      <th>3</th>\n",
       "      <td>Angola</td>\n",
       "      <td>119.0</td>\n",
       "      <td>62.3</td>\n",
       "      <td>2.85</td>\n",
       "      <td>42.9</td>\n",
       "      <td>5900.0</td>\n",
       "      <td>22.40</td>\n",
       "      <td>60.1</td>\n",
       "      <td>6.16</td>\n",
       "      <td>3530.0</td>\n",
       "      <td>-3.368252</td>\n",
       "      <td>1.032355</td>\n",
       "      <td>-2.187211</td>\n",
       "      <td>1.733318</td>\n",
       "      <td>0.111973</td>\n",
       "      <td>0</td>\n",
       "    </tr>\n",
       "    <tr>\n",
       "      <th>4</th>\n",
       "      <td>Antigua and Barbuda</td>\n",
       "      <td>10.3</td>\n",
       "      <td>45.5</td>\n",
       "      <td>6.03</td>\n",
       "      <td>58.9</td>\n",
       "      <td>19100.0</td>\n",
       "      <td>1.44</td>\n",
       "      <td>76.8</td>\n",
       "      <td>2.13</td>\n",
       "      <td>12200.0</td>\n",
       "      <td>1.286826</td>\n",
       "      <td>0.589943</td>\n",
       "      <td>0.138072</td>\n",
       "      <td>-0.695091</td>\n",
       "      <td>-0.389084</td>\n",
       "      <td>1</td>\n",
       "    </tr>\n",
       "  </tbody>\n",
       "</table>\n",
       "</div>"
      ],
      "text/plain": [
       "               country  child_mort  exports  health  imports   income  \\\n",
       "0          Afghanistan        90.2     10.0    7.58     44.9   1610.0   \n",
       "1              Albania        16.6     28.0    6.55     48.6   9930.0   \n",
       "2              Algeria        27.3     38.4    4.17     31.4  12900.0   \n",
       "3               Angola       119.0     62.3    2.85     42.9   5900.0   \n",
       "4  Antigua and Barbuda        10.3     45.5    6.03     58.9  19100.0   \n",
       "\n",
       "   inflation  life_expec  total_fer     gdpp       PC1       PC2       PC3  \\\n",
       "0       9.44        56.2       5.82    553.0 -3.234466 -0.262520  1.040764   \n",
       "1       4.49        76.3       1.65   4090.0  0.444781 -0.182664  0.319087   \n",
       "2      16.10        76.5       2.89   4460.0 -0.413538 -0.628562 -1.630752   \n",
       "3      22.40        60.1       6.16   3530.0 -3.368252  1.032355 -2.187211   \n",
       "4       1.44        76.8       2.13  12200.0  1.286826  0.589943  0.138072   \n",
       "\n",
       "        PC4       PC5  ClusterID  \n",
       "0  0.792771 -0.042866          0  \n",
       "1 -1.393728  0.192975          1  \n",
       "2 -0.618805  0.563179          1  \n",
       "3  1.733318  0.111973          0  \n",
       "4 -0.695091 -0.389084          1  "
      ]
     },
     "execution_count": 54,
     "metadata": {},
     "output_type": "execute_result"
    }
   ],
   "source": [
    "# Let's merge the original data with the data(ClusterID)\n",
    "dat5 = pd.merge(df1, dat_km, how = 'inner', on = 'country')\n",
    "dat5.head()"
   ]
  },
  {
   "cell_type": "code",
   "execution_count": 55,
   "metadata": {},
   "outputs": [],
   "source": [
    "dat5.drop(['PC1','PC2','PC3','PC4','PC5'], axis=1 , inplace = True)\n",
    "# dropped the PCA components and mapped with the original data"
   ]
  },
  {
   "cell_type": "code",
   "execution_count": 56,
   "metadata": {},
   "outputs": [
    {
     "data": {
      "text/html": [
       "<div>\n",
       "<style scoped>\n",
       "    .dataframe tbody tr th:only-of-type {\n",
       "        vertical-align: middle;\n",
       "    }\n",
       "\n",
       "    .dataframe tbody tr th {\n",
       "        vertical-align: top;\n",
       "    }\n",
       "\n",
       "    .dataframe thead th {\n",
       "        text-align: right;\n",
       "    }\n",
       "</style>\n",
       "<table border=\"1\" class=\"dataframe\">\n",
       "  <thead>\n",
       "    <tr style=\"text-align: right;\">\n",
       "      <th></th>\n",
       "      <th>country</th>\n",
       "      <th>child_mort</th>\n",
       "      <th>exports</th>\n",
       "      <th>health</th>\n",
       "      <th>imports</th>\n",
       "      <th>income</th>\n",
       "      <th>inflation</th>\n",
       "      <th>life_expec</th>\n",
       "      <th>total_fer</th>\n",
       "      <th>gdpp</th>\n",
       "      <th>ClusterID</th>\n",
       "    </tr>\n",
       "  </thead>\n",
       "  <tbody>\n",
       "    <tr>\n",
       "      <th>0</th>\n",
       "      <td>Afghanistan</td>\n",
       "      <td>90.2</td>\n",
       "      <td>10.0</td>\n",
       "      <td>7.58</td>\n",
       "      <td>44.9</td>\n",
       "      <td>1610.0</td>\n",
       "      <td>9.44</td>\n",
       "      <td>56.2</td>\n",
       "      <td>5.82</td>\n",
       "      <td>553.0</td>\n",
       "      <td>0</td>\n",
       "    </tr>\n",
       "    <tr>\n",
       "      <th>1</th>\n",
       "      <td>Albania</td>\n",
       "      <td>16.6</td>\n",
       "      <td>28.0</td>\n",
       "      <td>6.55</td>\n",
       "      <td>48.6</td>\n",
       "      <td>9930.0</td>\n",
       "      <td>4.49</td>\n",
       "      <td>76.3</td>\n",
       "      <td>1.65</td>\n",
       "      <td>4090.0</td>\n",
       "      <td>1</td>\n",
       "    </tr>\n",
       "    <tr>\n",
       "      <th>2</th>\n",
       "      <td>Algeria</td>\n",
       "      <td>27.3</td>\n",
       "      <td>38.4</td>\n",
       "      <td>4.17</td>\n",
       "      <td>31.4</td>\n",
       "      <td>12900.0</td>\n",
       "      <td>16.10</td>\n",
       "      <td>76.5</td>\n",
       "      <td>2.89</td>\n",
       "      <td>4460.0</td>\n",
       "      <td>1</td>\n",
       "    </tr>\n",
       "    <tr>\n",
       "      <th>3</th>\n",
       "      <td>Angola</td>\n",
       "      <td>119.0</td>\n",
       "      <td>62.3</td>\n",
       "      <td>2.85</td>\n",
       "      <td>42.9</td>\n",
       "      <td>5900.0</td>\n",
       "      <td>22.40</td>\n",
       "      <td>60.1</td>\n",
       "      <td>6.16</td>\n",
       "      <td>3530.0</td>\n",
       "      <td>0</td>\n",
       "    </tr>\n",
       "    <tr>\n",
       "      <th>4</th>\n",
       "      <td>Antigua and Barbuda</td>\n",
       "      <td>10.3</td>\n",
       "      <td>45.5</td>\n",
       "      <td>6.03</td>\n",
       "      <td>58.9</td>\n",
       "      <td>19100.0</td>\n",
       "      <td>1.44</td>\n",
       "      <td>76.8</td>\n",
       "      <td>2.13</td>\n",
       "      <td>12200.0</td>\n",
       "      <td>1</td>\n",
       "    </tr>\n",
       "  </tbody>\n",
       "</table>\n",
       "</div>"
      ],
      "text/plain": [
       "               country  child_mort  exports  health  imports   income  \\\n",
       "0          Afghanistan        90.2     10.0    7.58     44.9   1610.0   \n",
       "1              Albania        16.6     28.0    6.55     48.6   9930.0   \n",
       "2              Algeria        27.3     38.4    4.17     31.4  12900.0   \n",
       "3               Angola       119.0     62.3    2.85     42.9   5900.0   \n",
       "4  Antigua and Barbuda        10.3     45.5    6.03     58.9  19100.0   \n",
       "\n",
       "   inflation  life_expec  total_fer     gdpp  ClusterID  \n",
       "0       9.44        56.2       5.82    553.0          0  \n",
       "1       4.49        76.3       1.65   4090.0          1  \n",
       "2      16.10        76.5       2.89   4460.0          1  \n",
       "3      22.40        60.1       6.16   3530.0          0  \n",
       "4       1.44        76.8       2.13  12200.0          1  "
      ]
     },
     "execution_count": 56,
     "metadata": {},
     "output_type": "execute_result"
    }
   ],
   "source": [
    "dat5.head()"
   ]
  },
  {
   "cell_type": "code",
   "execution_count": 57,
   "metadata": {},
   "outputs": [
    {
     "data": {
      "text/html": [
       "<div>\n",
       "<style scoped>\n",
       "    .dataframe tbody tr th:only-of-type {\n",
       "        vertical-align: middle;\n",
       "    }\n",
       "\n",
       "    .dataframe tbody tr th {\n",
       "        vertical-align: top;\n",
       "    }\n",
       "\n",
       "    .dataframe thead th {\n",
       "        text-align: right;\n",
       "    }\n",
       "</style>\n",
       "<table border=\"1\" class=\"dataframe\">\n",
       "  <thead>\n",
       "    <tr style=\"text-align: right;\">\n",
       "      <th></th>\n",
       "      <th>child_mort</th>\n",
       "      <th>exports</th>\n",
       "      <th>health</th>\n",
       "      <th>imports</th>\n",
       "      <th>income</th>\n",
       "      <th>inflation</th>\n",
       "      <th>life_expec</th>\n",
       "      <th>total_fer</th>\n",
       "      <th>gdpp</th>\n",
       "    </tr>\n",
       "    <tr>\n",
       "      <th>ClusterID</th>\n",
       "      <th></th>\n",
       "      <th></th>\n",
       "      <th></th>\n",
       "      <th></th>\n",
       "      <th></th>\n",
       "      <th></th>\n",
       "      <th></th>\n",
       "      <th></th>\n",
       "      <th></th>\n",
       "    </tr>\n",
       "  </thead>\n",
       "  <tbody>\n",
       "    <tr>\n",
       "      <th>0</th>\n",
       "      <td>89.953191</td>\n",
       "      <td>28.225936</td>\n",
       "      <td>6.253830</td>\n",
       "      <td>41.058168</td>\n",
       "      <td>3738.574468</td>\n",
       "      <td>10.181340</td>\n",
       "      <td>60.059745</td>\n",
       "      <td>4.977813</td>\n",
       "      <td>1808.297872</td>\n",
       "    </tr>\n",
       "    <tr>\n",
       "      <th>1</th>\n",
       "      <td>22.510127</td>\n",
       "      <td>39.367316</td>\n",
       "      <td>6.306000</td>\n",
       "      <td>47.603392</td>\n",
       "      <td>11198.101266</td>\n",
       "      <td>7.164949</td>\n",
       "      <td>72.546835</td>\n",
       "      <td>2.324177</td>\n",
       "      <td>5771.189873</td>\n",
       "    </tr>\n",
       "    <tr>\n",
       "      <th>2</th>\n",
       "      <td>5.651220</td>\n",
       "      <td>52.169561</td>\n",
       "      <td>8.316195</td>\n",
       "      <td>46.953756</td>\n",
       "      <td>38244.146341</td>\n",
       "      <td>3.235171</td>\n",
       "      <td>79.514634</td>\n",
       "      <td>1.799756</td>\n",
       "      <td>27725.609756</td>\n",
       "    </tr>\n",
       "  </tbody>\n",
       "</table>\n",
       "</div>"
      ],
      "text/plain": [
       "           child_mort    exports    health    imports        income  \\\n",
       "ClusterID                                                             \n",
       "0           89.953191  28.225936  6.253830  41.058168   3738.574468   \n",
       "1           22.510127  39.367316  6.306000  47.603392  11198.101266   \n",
       "2            5.651220  52.169561  8.316195  46.953756  38244.146341   \n",
       "\n",
       "           inflation  life_expec  total_fer          gdpp  \n",
       "ClusterID                                                  \n",
       "0          10.181340   60.059745   4.977813   1808.297872  \n",
       "1           7.164949   72.546835   2.324177   5771.189873  \n",
       "2           3.235171   79.514634   1.799756  27725.609756  "
      ]
     },
     "execution_count": 57,
     "metadata": {},
     "output_type": "execute_result"
    }
   ],
   "source": [
    "dat5.drop('country', axis = 1).groupby('ClusterID').mean()\n",
    "# grouped by the clusterID and checked the mean to get the information that which cluster  requires the aid "
   ]
  },
  {
   "cell_type": "code",
   "execution_count": 58,
   "metadata": {},
   "outputs": [
    {
     "data": {
      "text/plain": [
       "<matplotlib.axes._subplots.AxesSubplot at 0x2cdf9e6d898>"
      ]
     },
     "execution_count": 58,
     "metadata": {},
     "output_type": "execute_result"
    },
    {
     "data": {
      "image/png": "[encoded data removed]",
      "text/plain": [
       "<Figure size 432x288 with 1 Axes>"
      ]
     },
     "metadata": {
      "needs_background": "light"
     },
     "output_type": "display_data"
    }
   ],
   "source": [
    "dat5.drop('country', axis = 1)[['child_mort','income','gdpp', 'ClusterID']].groupby('ClusterID').mean().plot(kind = 'bar')\n",
    "# plotted the bar chart for visualization"
   ]
  },
  {
   "cell_type": "code",
   "execution_count": 59,
   "metadata": {},
   "outputs": [
    {
     "data": {
      "text/plain": [
       "<matplotlib.axes._subplots.AxesSubplot at 0x2cdfc836588>"
      ]
     },
     "execution_count": 59,
     "metadata": {},
     "output_type": "execute_result"
    },
    {
     "data": {
      "image/png": "[encoded data removed]",
      "text/plain": [
       "<Figure size 432x288 with 1 Axes>"
      ]
     },
     "metadata": {
      "needs_background": "light"
     },
     "output_type": "display_data"
    }
   ],
   "source": [
    "dat5.drop('country', axis = 1)[['child_mort', 'ClusterID']].groupby('ClusterID').mean().plot(kind = 'bar')\n",
    "#plotted the separate bar chart for the child mort as the values are less"
   ]
  },
  {
   "cell_type": "markdown",
   "metadata": {},
   "source": [
    "# Finding the observations that belong to certain cluster"
   ]
  },
  {
   "cell_type": "code",
   "execution_count": 60,
   "metadata": {},
   "outputs": [
    {
     "data": {
      "text/plain": [
       "0                   Afghanistan\n",
       "3                        Angola\n",
       "17                        Benin\n",
       "25                 Burkina Faso\n",
       "26                      Burundi\n",
       "28                     Cameroon\n",
       "31     Central African Republic\n",
       "32                         Chad\n",
       "36                      Comoros\n",
       "37             Congo, Dem. Rep.\n",
       "38                  Congo, Rep.\n",
       "40                Cote d'Ivoire\n",
       "49            Equatorial Guinea\n",
       "50                      Eritrea\n",
       "55                        Gabon\n",
       "56                       Gambia\n",
       "59                        Ghana\n",
       "63                       Guinea\n",
       "64                Guinea-Bissau\n",
       "66                        Haiti\n",
       "72                         Iraq\n",
       "80                        Kenya\n",
       "81                     Kiribati\n",
       "84                          Lao\n",
       "87                      Lesotho\n",
       "88                      Liberia\n",
       "93                   Madagascar\n",
       "94                       Malawi\n",
       "97                         Mali\n",
       "99                   Mauritania\n",
       "106                  Mozambique\n",
       "107                     Myanmar\n",
       "108                     Namibia\n",
       "112                       Niger\n",
       "113                     Nigeria\n",
       "116                    Pakistan\n",
       "126                      Rwanda\n",
       "129                     Senegal\n",
       "132                Sierra Leone\n",
       "137                South Africa\n",
       "142                       Sudan\n",
       "147                    Tanzania\n",
       "149                 Timor-Leste\n",
       "150                        Togo\n",
       "155                      Uganda\n",
       "165                       Yemen\n",
       "166                      Zambia\n",
       "Name: country, dtype: object"
      ]
     },
     "execution_count": 60,
     "metadata": {},
     "output_type": "execute_result"
    }
   ],
   "source": [
    "#Let's use the concept of binning\n",
    "dat5[dat5['ClusterID']==0]['country']"
   ]
  },
  {
   "cell_type": "code",
   "execution_count": 61,
   "metadata": {},
   "outputs": [
    {
     "data": {
      "text/html": [
       "<div>\n",
       "<style scoped>\n",
       "    .dataframe tbody tr th:only-of-type {\n",
       "        vertical-align: middle;\n",
       "    }\n",
       "\n",
       "    .dataframe tbody tr th {\n",
       "        vertical-align: top;\n",
       "    }\n",
       "\n",
       "    .dataframe thead th {\n",
       "        text-align: right;\n",
       "    }\n",
       "</style>\n",
       "<table border=\"1\" class=\"dataframe\">\n",
       "  <thead>\n",
       "    <tr style=\"text-align: right;\">\n",
       "      <th></th>\n",
       "      <th>country</th>\n",
       "      <th>child_mort</th>\n",
       "      <th>exports</th>\n",
       "      <th>health</th>\n",
       "      <th>imports</th>\n",
       "      <th>income</th>\n",
       "      <th>inflation</th>\n",
       "      <th>life_expec</th>\n",
       "      <th>total_fer</th>\n",
       "      <th>gdpp</th>\n",
       "      <th>ClusterID</th>\n",
       "    </tr>\n",
       "  </thead>\n",
       "  <tbody>\n",
       "    <tr>\n",
       "      <th>26</th>\n",
       "      <td>Burundi</td>\n",
       "      <td>93.60</td>\n",
       "      <td>8.920</td>\n",
       "      <td>11.60</td>\n",
       "      <td>39.2000</td>\n",
       "      <td>764.0</td>\n",
       "      <td>12.300</td>\n",
       "      <td>57.700</td>\n",
       "      <td>6.2600</td>\n",
       "      <td>231.0</td>\n",
       "      <td>0</td>\n",
       "    </tr>\n",
       "    <tr>\n",
       "      <th>88</th>\n",
       "      <td>Liberia</td>\n",
       "      <td>89.30</td>\n",
       "      <td>19.100</td>\n",
       "      <td>11.80</td>\n",
       "      <td>92.6000</td>\n",
       "      <td>700.0</td>\n",
       "      <td>5.470</td>\n",
       "      <td>60.800</td>\n",
       "      <td>5.0200</td>\n",
       "      <td>327.0</td>\n",
       "      <td>0</td>\n",
       "    </tr>\n",
       "    <tr>\n",
       "      <th>37</th>\n",
       "      <td>Congo, Dem. Rep.</td>\n",
       "      <td>116.00</td>\n",
       "      <td>41.100</td>\n",
       "      <td>7.91</td>\n",
       "      <td>49.6000</td>\n",
       "      <td>609.0</td>\n",
       "      <td>20.800</td>\n",
       "      <td>57.500</td>\n",
       "      <td>6.5400</td>\n",
       "      <td>334.0</td>\n",
       "      <td>0</td>\n",
       "    </tr>\n",
       "    <tr>\n",
       "      <th>112</th>\n",
       "      <td>Niger</td>\n",
       "      <td>123.00</td>\n",
       "      <td>22.200</td>\n",
       "      <td>5.16</td>\n",
       "      <td>49.1000</td>\n",
       "      <td>814.0</td>\n",
       "      <td>2.550</td>\n",
       "      <td>58.800</td>\n",
       "      <td>6.5636</td>\n",
       "      <td>348.0</td>\n",
       "      <td>0</td>\n",
       "    </tr>\n",
       "    <tr>\n",
       "      <th>132</th>\n",
       "      <td>Sierra Leone</td>\n",
       "      <td>130.14</td>\n",
       "      <td>16.800</td>\n",
       "      <td>13.10</td>\n",
       "      <td>34.5000</td>\n",
       "      <td>1220.0</td>\n",
       "      <td>17.200</td>\n",
       "      <td>55.000</td>\n",
       "      <td>5.2000</td>\n",
       "      <td>399.0</td>\n",
       "      <td>0</td>\n",
       "    </tr>\n",
       "    <tr>\n",
       "      <th>93</th>\n",
       "      <td>Madagascar</td>\n",
       "      <td>62.20</td>\n",
       "      <td>25.000</td>\n",
       "      <td>3.77</td>\n",
       "      <td>43.0000</td>\n",
       "      <td>1390.0</td>\n",
       "      <td>8.790</td>\n",
       "      <td>60.800</td>\n",
       "      <td>4.6000</td>\n",
       "      <td>413.0</td>\n",
       "      <td>0</td>\n",
       "    </tr>\n",
       "    <tr>\n",
       "      <th>106</th>\n",
       "      <td>Mozambique</td>\n",
       "      <td>101.00</td>\n",
       "      <td>31.500</td>\n",
       "      <td>5.21</td>\n",
       "      <td>46.2000</td>\n",
       "      <td>918.0</td>\n",
       "      <td>7.640</td>\n",
       "      <td>54.500</td>\n",
       "      <td>5.5600</td>\n",
       "      <td>419.0</td>\n",
       "      <td>0</td>\n",
       "    </tr>\n",
       "    <tr>\n",
       "      <th>31</th>\n",
       "      <td>Central African Republic</td>\n",
       "      <td>130.14</td>\n",
       "      <td>11.800</td>\n",
       "      <td>3.98</td>\n",
       "      <td>26.5000</td>\n",
       "      <td>888.0</td>\n",
       "      <td>2.010</td>\n",
       "      <td>52.352</td>\n",
       "      <td>5.2100</td>\n",
       "      <td>446.0</td>\n",
       "      <td>0</td>\n",
       "    </tr>\n",
       "    <tr>\n",
       "      <th>94</th>\n",
       "      <td>Malawi</td>\n",
       "      <td>90.50</td>\n",
       "      <td>22.800</td>\n",
       "      <td>6.59</td>\n",
       "      <td>34.9000</td>\n",
       "      <td>1030.0</td>\n",
       "      <td>12.100</td>\n",
       "      <td>53.100</td>\n",
       "      <td>5.3100</td>\n",
       "      <td>459.0</td>\n",
       "      <td>0</td>\n",
       "    </tr>\n",
       "    <tr>\n",
       "      <th>50</th>\n",
       "      <td>Eritrea</td>\n",
       "      <td>55.20</td>\n",
       "      <td>4.790</td>\n",
       "      <td>2.66</td>\n",
       "      <td>23.3000</td>\n",
       "      <td>1420.0</td>\n",
       "      <td>11.600</td>\n",
       "      <td>61.700</td>\n",
       "      <td>4.6100</td>\n",
       "      <td>482.0</td>\n",
       "      <td>0</td>\n",
       "    </tr>\n",
       "    <tr>\n",
       "      <th>150</th>\n",
       "      <td>Togo</td>\n",
       "      <td>90.30</td>\n",
       "      <td>40.200</td>\n",
       "      <td>7.65</td>\n",
       "      <td>57.3000</td>\n",
       "      <td>1210.0</td>\n",
       "      <td>1.180</td>\n",
       "      <td>58.700</td>\n",
       "      <td>4.8700</td>\n",
       "      <td>488.0</td>\n",
       "      <td>0</td>\n",
       "    </tr>\n",
       "    <tr>\n",
       "      <th>64</th>\n",
       "      <td>Guinea-Bissau</td>\n",
       "      <td>114.00</td>\n",
       "      <td>14.900</td>\n",
       "      <td>8.50</td>\n",
       "      <td>35.2000</td>\n",
       "      <td>1390.0</td>\n",
       "      <td>2.970</td>\n",
       "      <td>55.600</td>\n",
       "      <td>5.0500</td>\n",
       "      <td>547.0</td>\n",
       "      <td>0</td>\n",
       "    </tr>\n",
       "    <tr>\n",
       "      <th>0</th>\n",
       "      <td>Afghanistan</td>\n",
       "      <td>90.20</td>\n",
       "      <td>10.000</td>\n",
       "      <td>7.58</td>\n",
       "      <td>44.9000</td>\n",
       "      <td>1610.0</td>\n",
       "      <td>9.440</td>\n",
       "      <td>56.200</td>\n",
       "      <td>5.8200</td>\n",
       "      <td>553.0</td>\n",
       "      <td>0</td>\n",
       "    </tr>\n",
       "    <tr>\n",
       "      <th>56</th>\n",
       "      <td>Gambia</td>\n",
       "      <td>80.30</td>\n",
       "      <td>23.800</td>\n",
       "      <td>5.69</td>\n",
       "      <td>42.7000</td>\n",
       "      <td>1660.0</td>\n",
       "      <td>4.300</td>\n",
       "      <td>65.500</td>\n",
       "      <td>5.7100</td>\n",
       "      <td>562.0</td>\n",
       "      <td>0</td>\n",
       "    </tr>\n",
       "    <tr>\n",
       "      <th>126</th>\n",
       "      <td>Rwanda</td>\n",
       "      <td>63.60</td>\n",
       "      <td>12.000</td>\n",
       "      <td>10.50</td>\n",
       "      <td>30.0000</td>\n",
       "      <td>1350.0</td>\n",
       "      <td>2.610</td>\n",
       "      <td>64.600</td>\n",
       "      <td>4.5100</td>\n",
       "      <td>563.0</td>\n",
       "      <td>0</td>\n",
       "    </tr>\n",
       "    <tr>\n",
       "      <th>25</th>\n",
       "      <td>Burkina Faso</td>\n",
       "      <td>116.00</td>\n",
       "      <td>19.200</td>\n",
       "      <td>6.74</td>\n",
       "      <td>29.6000</td>\n",
       "      <td>1430.0</td>\n",
       "      <td>6.810</td>\n",
       "      <td>57.900</td>\n",
       "      <td>5.8700</td>\n",
       "      <td>575.0</td>\n",
       "      <td>0</td>\n",
       "    </tr>\n",
       "    <tr>\n",
       "      <th>155</th>\n",
       "      <td>Uganda</td>\n",
       "      <td>81.00</td>\n",
       "      <td>17.100</td>\n",
       "      <td>9.01</td>\n",
       "      <td>28.6000</td>\n",
       "      <td>1540.0</td>\n",
       "      <td>10.600</td>\n",
       "      <td>56.800</td>\n",
       "      <td>6.1500</td>\n",
       "      <td>595.0</td>\n",
       "      <td>0</td>\n",
       "    </tr>\n",
       "    <tr>\n",
       "      <th>63</th>\n",
       "      <td>Guinea</td>\n",
       "      <td>109.00</td>\n",
       "      <td>30.300</td>\n",
       "      <td>4.93</td>\n",
       "      <td>43.2000</td>\n",
       "      <td>1190.0</td>\n",
       "      <td>16.100</td>\n",
       "      <td>58.000</td>\n",
       "      <td>5.3400</td>\n",
       "      <td>648.0</td>\n",
       "      <td>0</td>\n",
       "    </tr>\n",
       "    <tr>\n",
       "      <th>66</th>\n",
       "      <td>Haiti</td>\n",
       "      <td>130.14</td>\n",
       "      <td>15.300</td>\n",
       "      <td>6.91</td>\n",
       "      <td>64.7000</td>\n",
       "      <td>1500.0</td>\n",
       "      <td>5.450</td>\n",
       "      <td>52.352</td>\n",
       "      <td>3.3300</td>\n",
       "      <td>662.0</td>\n",
       "      <td>0</td>\n",
       "    </tr>\n",
       "    <tr>\n",
       "      <th>147</th>\n",
       "      <td>Tanzania</td>\n",
       "      <td>71.90</td>\n",
       "      <td>18.700</td>\n",
       "      <td>6.01</td>\n",
       "      <td>29.1000</td>\n",
       "      <td>2090.0</td>\n",
       "      <td>9.250</td>\n",
       "      <td>59.300</td>\n",
       "      <td>5.4300</td>\n",
       "      <td>702.0</td>\n",
       "      <td>0</td>\n",
       "    </tr>\n",
       "    <tr>\n",
       "      <th>97</th>\n",
       "      <td>Mali</td>\n",
       "      <td>130.14</td>\n",
       "      <td>22.800</td>\n",
       "      <td>4.98</td>\n",
       "      <td>35.1000</td>\n",
       "      <td>1870.0</td>\n",
       "      <td>4.370</td>\n",
       "      <td>59.500</td>\n",
       "      <td>6.5500</td>\n",
       "      <td>708.0</td>\n",
       "      <td>0</td>\n",
       "    </tr>\n",
       "    <tr>\n",
       "      <th>17</th>\n",
       "      <td>Benin</td>\n",
       "      <td>111.00</td>\n",
       "      <td>23.800</td>\n",
       "      <td>4.10</td>\n",
       "      <td>37.2000</td>\n",
       "      <td>1820.0</td>\n",
       "      <td>0.885</td>\n",
       "      <td>61.800</td>\n",
       "      <td>5.3600</td>\n",
       "      <td>758.0</td>\n",
       "      <td>0</td>\n",
       "    </tr>\n",
       "    <tr>\n",
       "      <th>36</th>\n",
       "      <td>Comoros</td>\n",
       "      <td>88.20</td>\n",
       "      <td>16.500</td>\n",
       "      <td>4.51</td>\n",
       "      <td>51.7000</td>\n",
       "      <td>1410.0</td>\n",
       "      <td>3.870</td>\n",
       "      <td>65.900</td>\n",
       "      <td>4.7500</td>\n",
       "      <td>769.0</td>\n",
       "      <td>0</td>\n",
       "    </tr>\n",
       "    <tr>\n",
       "      <th>32</th>\n",
       "      <td>Chad</td>\n",
       "      <td>130.14</td>\n",
       "      <td>36.800</td>\n",
       "      <td>4.53</td>\n",
       "      <td>43.5000</td>\n",
       "      <td>1930.0</td>\n",
       "      <td>6.390</td>\n",
       "      <td>56.500</td>\n",
       "      <td>6.5636</td>\n",
       "      <td>897.0</td>\n",
       "      <td>0</td>\n",
       "    </tr>\n",
       "    <tr>\n",
       "      <th>80</th>\n",
       "      <td>Kenya</td>\n",
       "      <td>62.20</td>\n",
       "      <td>20.700</td>\n",
       "      <td>4.75</td>\n",
       "      <td>33.6000</td>\n",
       "      <td>2480.0</td>\n",
       "      <td>2.090</td>\n",
       "      <td>62.800</td>\n",
       "      <td>4.3700</td>\n",
       "      <td>967.0</td>\n",
       "      <td>0</td>\n",
       "    </tr>\n",
       "    <tr>\n",
       "      <th>107</th>\n",
       "      <td>Myanmar</td>\n",
       "      <td>64.40</td>\n",
       "      <td>0.109</td>\n",
       "      <td>1.97</td>\n",
       "      <td>0.0659</td>\n",
       "      <td>3720.0</td>\n",
       "      <td>7.040</td>\n",
       "      <td>66.800</td>\n",
       "      <td>2.4100</td>\n",
       "      <td>988.0</td>\n",
       "      <td>0</td>\n",
       "    </tr>\n",
       "    <tr>\n",
       "      <th>129</th>\n",
       "      <td>Senegal</td>\n",
       "      <td>66.80</td>\n",
       "      <td>24.900</td>\n",
       "      <td>5.66</td>\n",
       "      <td>40.3000</td>\n",
       "      <td>2180.0</td>\n",
       "      <td>1.850</td>\n",
       "      <td>64.000</td>\n",
       "      <td>5.0600</td>\n",
       "      <td>1000.0</td>\n",
       "      <td>0</td>\n",
       "    </tr>\n",
       "    <tr>\n",
       "      <th>116</th>\n",
       "      <td>Pakistan</td>\n",
       "      <td>92.10</td>\n",
       "      <td>13.500</td>\n",
       "      <td>2.20</td>\n",
       "      <td>19.4000</td>\n",
       "      <td>4280.0</td>\n",
       "      <td>10.900</td>\n",
       "      <td>65.300</td>\n",
       "      <td>3.8500</td>\n",
       "      <td>1040.0</td>\n",
       "      <td>0</td>\n",
       "    </tr>\n",
       "    <tr>\n",
       "      <th>84</th>\n",
       "      <td>Lao</td>\n",
       "      <td>78.90</td>\n",
       "      <td>35.400</td>\n",
       "      <td>4.47</td>\n",
       "      <td>49.3000</td>\n",
       "      <td>3980.0</td>\n",
       "      <td>9.200</td>\n",
       "      <td>63.800</td>\n",
       "      <td>3.1500</td>\n",
       "      <td>1140.0</td>\n",
       "      <td>0</td>\n",
       "    </tr>\n",
       "    <tr>\n",
       "      <th>87</th>\n",
       "      <td>Lesotho</td>\n",
       "      <td>99.70</td>\n",
       "      <td>39.400</td>\n",
       "      <td>11.10</td>\n",
       "      <td>92.7680</td>\n",
       "      <td>2380.0</td>\n",
       "      <td>4.150</td>\n",
       "      <td>52.352</td>\n",
       "      <td>3.3000</td>\n",
       "      <td>1170.0</td>\n",
       "      <td>0</td>\n",
       "    </tr>\n",
       "    <tr>\n",
       "      <th>99</th>\n",
       "      <td>Mauritania</td>\n",
       "      <td>97.40</td>\n",
       "      <td>50.700</td>\n",
       "      <td>4.41</td>\n",
       "      <td>61.2000</td>\n",
       "      <td>3320.0</td>\n",
       "      <td>18.900</td>\n",
       "      <td>68.200</td>\n",
       "      <td>4.9800</td>\n",
       "      <td>1200.0</td>\n",
       "      <td>0</td>\n",
       "    </tr>\n",
       "    <tr>\n",
       "      <th>40</th>\n",
       "      <td>Cote d'Ivoire</td>\n",
       "      <td>111.00</td>\n",
       "      <td>50.600</td>\n",
       "      <td>5.30</td>\n",
       "      <td>43.3000</td>\n",
       "      <td>2690.0</td>\n",
       "      <td>5.390</td>\n",
       "      <td>56.300</td>\n",
       "      <td>5.2700</td>\n",
       "      <td>1220.0</td>\n",
       "      <td>0</td>\n",
       "    </tr>\n",
       "    <tr>\n",
       "      <th>28</th>\n",
       "      <td>Cameroon</td>\n",
       "      <td>108.00</td>\n",
       "      <td>22.200</td>\n",
       "      <td>5.13</td>\n",
       "      <td>27.0000</td>\n",
       "      <td>2660.0</td>\n",
       "      <td>1.910</td>\n",
       "      <td>57.300</td>\n",
       "      <td>5.1100</td>\n",
       "      <td>1310.0</td>\n",
       "      <td>0</td>\n",
       "    </tr>\n",
       "    <tr>\n",
       "      <th>59</th>\n",
       "      <td>Ghana</td>\n",
       "      <td>74.70</td>\n",
       "      <td>29.500</td>\n",
       "      <td>5.22</td>\n",
       "      <td>45.9000</td>\n",
       "      <td>3060.0</td>\n",
       "      <td>16.600</td>\n",
       "      <td>62.200</td>\n",
       "      <td>4.2700</td>\n",
       "      <td>1310.0</td>\n",
       "      <td>0</td>\n",
       "    </tr>\n",
       "    <tr>\n",
       "      <th>165</th>\n",
       "      <td>Yemen</td>\n",
       "      <td>56.30</td>\n",
       "      <td>30.000</td>\n",
       "      <td>5.18</td>\n",
       "      <td>34.4000</td>\n",
       "      <td>4480.0</td>\n",
       "      <td>23.600</td>\n",
       "      <td>67.500</td>\n",
       "      <td>4.6700</td>\n",
       "      <td>1310.0</td>\n",
       "      <td>0</td>\n",
       "    </tr>\n",
       "    <tr>\n",
       "      <th>166</th>\n",
       "      <td>Zambia</td>\n",
       "      <td>83.10</td>\n",
       "      <td>37.000</td>\n",
       "      <td>5.89</td>\n",
       "      <td>30.9000</td>\n",
       "      <td>3280.0</td>\n",
       "      <td>14.000</td>\n",
       "      <td>52.352</td>\n",
       "      <td>5.4000</td>\n",
       "      <td>1460.0</td>\n",
       "      <td>0</td>\n",
       "    </tr>\n",
       "    <tr>\n",
       "      <th>142</th>\n",
       "      <td>Sudan</td>\n",
       "      <td>76.70</td>\n",
       "      <td>19.700</td>\n",
       "      <td>6.32</td>\n",
       "      <td>17.2000</td>\n",
       "      <td>3370.0</td>\n",
       "      <td>19.600</td>\n",
       "      <td>66.300</td>\n",
       "      <td>4.8800</td>\n",
       "      <td>1480.0</td>\n",
       "      <td>0</td>\n",
       "    </tr>\n",
       "    <tr>\n",
       "      <th>81</th>\n",
       "      <td>Kiribati</td>\n",
       "      <td>62.70</td>\n",
       "      <td>13.300</td>\n",
       "      <td>11.30</td>\n",
       "      <td>79.9000</td>\n",
       "      <td>1730.0</td>\n",
       "      <td>1.520</td>\n",
       "      <td>60.700</td>\n",
       "      <td>3.8400</td>\n",
       "      <td>1490.0</td>\n",
       "      <td>0</td>\n",
       "    </tr>\n",
       "    <tr>\n",
       "      <th>113</th>\n",
       "      <td>Nigeria</td>\n",
       "      <td>130.00</td>\n",
       "      <td>25.300</td>\n",
       "      <td>5.07</td>\n",
       "      <td>17.4000</td>\n",
       "      <td>5150.0</td>\n",
       "      <td>23.626</td>\n",
       "      <td>60.500</td>\n",
       "      <td>5.8400</td>\n",
       "      <td>2330.0</td>\n",
       "      <td>0</td>\n",
       "    </tr>\n",
       "    <tr>\n",
       "      <th>38</th>\n",
       "      <td>Congo, Rep.</td>\n",
       "      <td>63.90</td>\n",
       "      <td>85.100</td>\n",
       "      <td>2.46</td>\n",
       "      <td>54.7000</td>\n",
       "      <td>5190.0</td>\n",
       "      <td>20.700</td>\n",
       "      <td>60.400</td>\n",
       "      <td>4.9500</td>\n",
       "      <td>2740.0</td>\n",
       "      <td>0</td>\n",
       "    </tr>\n",
       "    <tr>\n",
       "      <th>3</th>\n",
       "      <td>Angola</td>\n",
       "      <td>119.00</td>\n",
       "      <td>62.300</td>\n",
       "      <td>2.85</td>\n",
       "      <td>42.9000</td>\n",
       "      <td>5900.0</td>\n",
       "      <td>22.400</td>\n",
       "      <td>60.100</td>\n",
       "      <td>6.1600</td>\n",
       "      <td>3530.0</td>\n",
       "      <td>0</td>\n",
       "    </tr>\n",
       "    <tr>\n",
       "      <th>149</th>\n",
       "      <td>Timor-Leste</td>\n",
       "      <td>62.60</td>\n",
       "      <td>2.200</td>\n",
       "      <td>9.12</td>\n",
       "      <td>27.8000</td>\n",
       "      <td>1850.0</td>\n",
       "      <td>23.626</td>\n",
       "      <td>71.100</td>\n",
       "      <td>6.2300</td>\n",
       "      <td>3600.0</td>\n",
       "      <td>0</td>\n",
       "    </tr>\n",
       "    <tr>\n",
       "      <th>72</th>\n",
       "      <td>Iraq</td>\n",
       "      <td>36.90</td>\n",
       "      <td>39.400</td>\n",
       "      <td>8.41</td>\n",
       "      <td>34.1000</td>\n",
       "      <td>12700.0</td>\n",
       "      <td>16.600</td>\n",
       "      <td>67.200</td>\n",
       "      <td>4.5600</td>\n",
       "      <td>4500.0</td>\n",
       "      <td>0</td>\n",
       "    </tr>\n",
       "    <tr>\n",
       "      <th>108</th>\n",
       "      <td>Namibia</td>\n",
       "      <td>56.00</td>\n",
       "      <td>47.800</td>\n",
       "      <td>6.78</td>\n",
       "      <td>60.7000</td>\n",
       "      <td>8460.0</td>\n",
       "      <td>3.560</td>\n",
       "      <td>58.600</td>\n",
       "      <td>3.6000</td>\n",
       "      <td>5190.0</td>\n",
       "      <td>0</td>\n",
       "    </tr>\n",
       "    <tr>\n",
       "      <th>137</th>\n",
       "      <td>South Africa</td>\n",
       "      <td>53.70</td>\n",
       "      <td>28.600</td>\n",
       "      <td>8.94</td>\n",
       "      <td>27.4000</td>\n",
       "      <td>12000.0</td>\n",
       "      <td>6.350</td>\n",
       "      <td>54.300</td>\n",
       "      <td>2.5900</td>\n",
       "      <td>7280.0</td>\n",
       "      <td>0</td>\n",
       "    </tr>\n",
       "    <tr>\n",
       "      <th>55</th>\n",
       "      <td>Gabon</td>\n",
       "      <td>63.70</td>\n",
       "      <td>57.700</td>\n",
       "      <td>3.50</td>\n",
       "      <td>18.9000</td>\n",
       "      <td>15400.0</td>\n",
       "      <td>16.600</td>\n",
       "      <td>62.900</td>\n",
       "      <td>4.0800</td>\n",
       "      <td>8750.0</td>\n",
       "      <td>0</td>\n",
       "    </tr>\n",
       "    <tr>\n",
       "      <th>49</th>\n",
       "      <td>Equatorial Guinea</td>\n",
       "      <td>111.00</td>\n",
       "      <td>85.800</td>\n",
       "      <td>4.48</td>\n",
       "      <td>58.9000</td>\n",
       "      <td>33700.0</td>\n",
       "      <td>23.626</td>\n",
       "      <td>60.900</td>\n",
       "      <td>5.2100</td>\n",
       "      <td>17100.0</td>\n",
       "      <td>0</td>\n",
       "    </tr>\n",
       "  </tbody>\n",
       "</table>\n",
       "</div>"
      ],
      "text/plain": [
       "                      country  child_mort  exports  health  imports   income  \\\n",
       "26                    Burundi       93.60    8.920   11.60  39.2000    764.0   \n",
       "88                    Liberia       89.30   19.100   11.80  92.6000    700.0   \n",
       "37           Congo, Dem. Rep.      116.00   41.100    7.91  49.6000    609.0   \n",
       "112                     Niger      123.00   22.200    5.16  49.1000    814.0   \n",
       "132              Sierra Leone      130.14   16.800   13.10  34.5000   1220.0   \n",
       "93                 Madagascar       62.20   25.000    3.77  43.0000   1390.0   \n",
       "106                Mozambique      101.00   31.500    5.21  46.2000    918.0   \n",
       "31   Central African Republic      130.14   11.800    3.98  26.5000    888.0   \n",
       "94                     Malawi       90.50   22.800    6.59  34.9000   1030.0   \n",
       "50                    Eritrea       55.20    4.790    2.66  23.3000   1420.0   \n",
       "150                      Togo       90.30   40.200    7.65  57.3000   1210.0   \n",
       "64              Guinea-Bissau      114.00   14.900    8.50  35.2000   1390.0   \n",
       "0                 Afghanistan       90.20   10.000    7.58  44.9000   1610.0   \n",
       "56                     Gambia       80.30   23.800    5.69  42.7000   1660.0   \n",
       "126                    Rwanda       63.60   12.000   10.50  30.0000   1350.0   \n",
       "25               Burkina Faso      116.00   19.200    6.74  29.6000   1430.0   \n",
       "155                    Uganda       81.00   17.100    9.01  28.6000   1540.0   \n",
       "63                     Guinea      109.00   30.300    4.93  43.2000   1190.0   \n",
       "66                      Haiti      130.14   15.300    6.91  64.7000   1500.0   \n",
       "147                  Tanzania       71.90   18.700    6.01  29.1000   2090.0   \n",
       "97                       Mali      130.14   22.800    4.98  35.1000   1870.0   \n",
       "17                      Benin      111.00   23.800    4.10  37.2000   1820.0   \n",
       "36                    Comoros       88.20   16.500    4.51  51.7000   1410.0   \n",
       "32                       Chad      130.14   36.800    4.53  43.5000   1930.0   \n",
       "80                      Kenya       62.20   20.700    4.75  33.6000   2480.0   \n",
       "107                   Myanmar       64.40    0.109    1.97   0.0659   3720.0   \n",
       "129                   Senegal       66.80   24.900    5.66  40.3000   2180.0   \n",
       "116                  Pakistan       92.10   13.500    2.20  19.4000   4280.0   \n",
       "84                        Lao       78.90   35.400    4.47  49.3000   3980.0   \n",
       "87                    Lesotho       99.70   39.400   11.10  92.7680   2380.0   \n",
       "99                 Mauritania       97.40   50.700    4.41  61.2000   3320.0   \n",
       "40              Cote d'Ivoire      111.00   50.600    5.30  43.3000   2690.0   \n",
       "28                   Cameroon      108.00   22.200    5.13  27.0000   2660.0   \n",
       "59                      Ghana       74.70   29.500    5.22  45.9000   3060.0   \n",
       "165                     Yemen       56.30   30.000    5.18  34.4000   4480.0   \n",
       "166                    Zambia       83.10   37.000    5.89  30.9000   3280.0   \n",
       "142                     Sudan       76.70   19.700    6.32  17.2000   3370.0   \n",
       "81                   Kiribati       62.70   13.300   11.30  79.9000   1730.0   \n",
       "113                   Nigeria      130.00   25.300    5.07  17.4000   5150.0   \n",
       "38                Congo, Rep.       63.90   85.100    2.46  54.7000   5190.0   \n",
       "3                      Angola      119.00   62.300    2.85  42.9000   5900.0   \n",
       "149               Timor-Leste       62.60    2.200    9.12  27.8000   1850.0   \n",
       "72                       Iraq       36.90   39.400    8.41  34.1000  12700.0   \n",
       "108                   Namibia       56.00   47.800    6.78  60.7000   8460.0   \n",
       "137              South Africa       53.70   28.600    8.94  27.4000  12000.0   \n",
       "55                      Gabon       63.70   57.700    3.50  18.9000  15400.0   \n",
       "49          Equatorial Guinea      111.00   85.800    4.48  58.9000  33700.0   \n",
       "\n",
       "     inflation  life_expec  total_fer     gdpp  ClusterID  \n",
       "26      12.300      57.700     6.2600    231.0          0  \n",
       "88       5.470      60.800     5.0200    327.0          0  \n",
       "37      20.800      57.500     6.5400    334.0          0  \n",
       "112      2.550      58.800     6.5636    348.0          0  \n",
       "132     17.200      55.000     5.2000    399.0          0  \n",
       "93       8.790      60.800     4.6000    413.0          0  \n",
       "106      7.640      54.500     5.5600    419.0          0  \n",
       "31       2.010      52.352     5.2100    446.0          0  \n",
       "94      12.100      53.100     5.3100    459.0          0  \n",
       "50      11.600      61.700     4.6100    482.0          0  \n",
       "150      1.180      58.700     4.8700    488.0          0  \n",
       "64       2.970      55.600     5.0500    547.0          0  \n",
       "0        9.440      56.200     5.8200    553.0          0  \n",
       "56       4.300      65.500     5.7100    562.0          0  \n",
       "126      2.610      64.600     4.5100    563.0          0  \n",
       "25       6.810      57.900     5.8700    575.0          0  \n",
       "155     10.600      56.800     6.1500    595.0          0  \n",
       "63      16.100      58.000     5.3400    648.0          0  \n",
       "66       5.450      52.352     3.3300    662.0          0  \n",
       "147      9.250      59.300     5.4300    702.0          0  \n",
       "97       4.370      59.500     6.5500    708.0          0  \n",
       "17       0.885      61.800     5.3600    758.0          0  \n",
       "36       3.870      65.900     4.7500    769.0          0  \n",
       "32       6.390      56.500     6.5636    897.0          0  \n",
       "80       2.090      62.800     4.3700    967.0          0  \n",
       "107      7.040      66.800     2.4100    988.0          0  \n",
       "129      1.850      64.000     5.0600   1000.0          0  \n",
       "116     10.900      65.300     3.8500   1040.0          0  \n",
       "84       9.200      63.800     3.1500   1140.0          0  \n",
       "87       4.150      52.352     3.3000   1170.0          0  \n",
       "99      18.900      68.200     4.9800   1200.0          0  \n",
       "40       5.390      56.300     5.2700   1220.0          0  \n",
       "28       1.910      57.300     5.1100   1310.0          0  \n",
       "59      16.600      62.200     4.2700   1310.0          0  \n",
       "165     23.600      67.500     4.6700   1310.0          0  \n",
       "166     14.000      52.352     5.4000   1460.0          0  \n",
       "142     19.600      66.300     4.8800   1480.0          0  \n",
       "81       1.520      60.700     3.8400   1490.0          0  \n",
       "113     23.626      60.500     5.8400   2330.0          0  \n",
       "38      20.700      60.400     4.9500   2740.0          0  \n",
       "3       22.400      60.100     6.1600   3530.0          0  \n",
       "149     23.626      71.100     6.2300   3600.0          0  \n",
       "72      16.600      67.200     4.5600   4500.0          0  \n",
       "108      3.560      58.600     3.6000   5190.0          0  \n",
       "137      6.350      54.300     2.5900   7280.0          0  \n",
       "55      16.600      62.900     4.0800   8750.0          0  \n",
       "49      23.626      60.900     5.2100  17100.0          0  "
      ]
     },
     "execution_count": 61,
     "metadata": {},
     "output_type": "execute_result"
    }
   ],
   "source": [
    "dat5[dat5['ClusterID']==0].sort_values(by=['gdpp','child_mort','income'], ascending=[ True, False, True]) \n",
    "# sorted the values according for the five countries which require the aid"
   ]
  },
  {
   "cell_type": "markdown",
   "metadata": {},
   "source": [
    "# Hierarchical Clustering"
   ]
  },
  {
   "cell_type": "code",
   "execution_count": 62,
   "metadata": {},
   "outputs": [
    {
     "data": {
      "text/html": [
       "<div>\n",
       "<style scoped>\n",
       "    .dataframe tbody tr th:only-of-type {\n",
       "        vertical-align: middle;\n",
       "    }\n",
       "\n",
       "    .dataframe tbody tr th {\n",
       "        vertical-align: top;\n",
       "    }\n",
       "\n",
       "    .dataframe thead th {\n",
       "        text-align: right;\n",
       "    }\n",
       "</style>\n",
       "<table border=\"1\" class=\"dataframe\">\n",
       "  <thead>\n",
       "    <tr style=\"text-align: right;\">\n",
       "      <th></th>\n",
       "      <th>PC1</th>\n",
       "      <th>PC2</th>\n",
       "      <th>PC3</th>\n",
       "      <th>PC4</th>\n",
       "      <th>PC5</th>\n",
       "    </tr>\n",
       "  </thead>\n",
       "  <tbody>\n",
       "    <tr>\n",
       "      <th>0</th>\n",
       "      <td>-3.234466</td>\n",
       "      <td>-0.262520</td>\n",
       "      <td>1.040764</td>\n",
       "      <td>0.792771</td>\n",
       "      <td>-0.042866</td>\n",
       "    </tr>\n",
       "    <tr>\n",
       "      <th>1</th>\n",
       "      <td>0.444781</td>\n",
       "      <td>-0.182664</td>\n",
       "      <td>0.319087</td>\n",
       "      <td>-1.393728</td>\n",
       "      <td>0.192975</td>\n",
       "    </tr>\n",
       "    <tr>\n",
       "      <th>2</th>\n",
       "      <td>-0.413538</td>\n",
       "      <td>-0.628562</td>\n",
       "      <td>-1.630752</td>\n",
       "      <td>-0.618805</td>\n",
       "      <td>0.563179</td>\n",
       "    </tr>\n",
       "    <tr>\n",
       "      <th>3</th>\n",
       "      <td>-3.368252</td>\n",
       "      <td>1.032355</td>\n",
       "      <td>-2.187211</td>\n",
       "      <td>1.733318</td>\n",
       "      <td>0.111973</td>\n",
       "    </tr>\n",
       "    <tr>\n",
       "      <th>4</th>\n",
       "      <td>1.286826</td>\n",
       "      <td>0.589943</td>\n",
       "      <td>0.138072</td>\n",
       "      <td>-0.695091</td>\n",
       "      <td>-0.389084</td>\n",
       "    </tr>\n",
       "  </tbody>\n",
       "</table>\n",
       "</div>"
      ],
      "text/plain": [
       "        PC1       PC2       PC3       PC4       PC5\n",
       "0 -3.234466 -0.262520  1.040764  0.792771 -0.042866\n",
       "1  0.444781 -0.182664  0.319087 -1.393728  0.192975\n",
       "2 -0.413538 -0.628562 -1.630752 -0.618805  0.563179\n",
       "3 -3.368252  1.032355 -2.187211  1.733318  0.111973\n",
       "4  1.286826  0.589943  0.138072 -0.695091 -0.389084"
      ]
     },
     "execution_count": 62,
     "metadata": {},
     "output_type": "execute_result"
    }
   ],
   "source": [
    "dat3_1.head()"
   ]
  },
  {
   "cell_type": "code",
   "execution_count": 63,
   "metadata": {},
   "outputs": [
    {
     "data": {
      "text/html": [
       "<div>\n",
       "<style scoped>\n",
       "    .dataframe tbody tr th:only-of-type {\n",
       "        vertical-align: middle;\n",
       "    }\n",
       "\n",
       "    .dataframe tbody tr th {\n",
       "        vertical-align: top;\n",
       "    }\n",
       "\n",
       "    .dataframe thead th {\n",
       "        text-align: right;\n",
       "    }\n",
       "</style>\n",
       "<table border=\"1\" class=\"dataframe\">\n",
       "  <thead>\n",
       "    <tr style=\"text-align: right;\">\n",
       "      <th></th>\n",
       "      <th>country</th>\n",
       "      <th>child_mort</th>\n",
       "      <th>exports</th>\n",
       "      <th>health</th>\n",
       "      <th>imports</th>\n",
       "      <th>income</th>\n",
       "      <th>inflation</th>\n",
       "      <th>life_expec</th>\n",
       "      <th>total_fer</th>\n",
       "      <th>gdpp</th>\n",
       "      <th>ClusterID</th>\n",
       "    </tr>\n",
       "  </thead>\n",
       "  <tbody>\n",
       "    <tr>\n",
       "      <th>0</th>\n",
       "      <td>Afghanistan</td>\n",
       "      <td>90.2</td>\n",
       "      <td>10.0</td>\n",
       "      <td>7.58</td>\n",
       "      <td>44.9</td>\n",
       "      <td>1610.0</td>\n",
       "      <td>9.44</td>\n",
       "      <td>56.2</td>\n",
       "      <td>5.82</td>\n",
       "      <td>553.0</td>\n",
       "      <td>0</td>\n",
       "    </tr>\n",
       "    <tr>\n",
       "      <th>1</th>\n",
       "      <td>Albania</td>\n",
       "      <td>16.6</td>\n",
       "      <td>28.0</td>\n",
       "      <td>6.55</td>\n",
       "      <td>48.6</td>\n",
       "      <td>9930.0</td>\n",
       "      <td>4.49</td>\n",
       "      <td>76.3</td>\n",
       "      <td>1.65</td>\n",
       "      <td>4090.0</td>\n",
       "      <td>1</td>\n",
       "    </tr>\n",
       "    <tr>\n",
       "      <th>2</th>\n",
       "      <td>Algeria</td>\n",
       "      <td>27.3</td>\n",
       "      <td>38.4</td>\n",
       "      <td>4.17</td>\n",
       "      <td>31.4</td>\n",
       "      <td>12900.0</td>\n",
       "      <td>16.10</td>\n",
       "      <td>76.5</td>\n",
       "      <td>2.89</td>\n",
       "      <td>4460.0</td>\n",
       "      <td>1</td>\n",
       "    </tr>\n",
       "    <tr>\n",
       "      <th>3</th>\n",
       "      <td>Angola</td>\n",
       "      <td>119.0</td>\n",
       "      <td>62.3</td>\n",
       "      <td>2.85</td>\n",
       "      <td>42.9</td>\n",
       "      <td>5900.0</td>\n",
       "      <td>22.40</td>\n",
       "      <td>60.1</td>\n",
       "      <td>6.16</td>\n",
       "      <td>3530.0</td>\n",
       "      <td>0</td>\n",
       "    </tr>\n",
       "    <tr>\n",
       "      <th>4</th>\n",
       "      <td>Antigua and Barbuda</td>\n",
       "      <td>10.3</td>\n",
       "      <td>45.5</td>\n",
       "      <td>6.03</td>\n",
       "      <td>58.9</td>\n",
       "      <td>19100.0</td>\n",
       "      <td>1.44</td>\n",
       "      <td>76.8</td>\n",
       "      <td>2.13</td>\n",
       "      <td>12200.0</td>\n",
       "      <td>1</td>\n",
       "    </tr>\n",
       "  </tbody>\n",
       "</table>\n",
       "</div>"
      ],
      "text/plain": [
       "               country  child_mort  exports  health  imports   income  \\\n",
       "0          Afghanistan        90.2     10.0    7.58     44.9   1610.0   \n",
       "1              Albania        16.6     28.0    6.55     48.6   9930.0   \n",
       "2              Algeria        27.3     38.4    4.17     31.4  12900.0   \n",
       "3               Angola       119.0     62.3    2.85     42.9   5900.0   \n",
       "4  Antigua and Barbuda        10.3     45.5    6.03     58.9  19100.0   \n",
       "\n",
       "   inflation  life_expec  total_fer     gdpp  ClusterID  \n",
       "0       9.44        56.2       5.82    553.0          0  \n",
       "1       4.49        76.3       1.65   4090.0          1  \n",
       "2      16.10        76.5       2.89   4460.0          1  \n",
       "3      22.40        60.1       6.16   3530.0          0  \n",
       "4       1.44        76.8       2.13  12200.0          1  "
      ]
     },
     "execution_count": 63,
     "metadata": {},
     "output_type": "execute_result"
    }
   ],
   "source": [
    "dat5.head()"
   ]
  },
  {
   "cell_type": "code",
   "execution_count": 65,
   "metadata": {},
   "outputs": [],
   "source": [
    "from scipy.cluster.hierarchy import linkage\n",
    "from scipy.cluster.hierarchy import dendrogram\n",
    "from scipy.cluster.hierarchy import cut_tree"
   ]
  },
  {
   "cell_type": "code",
   "execution_count": 66,
   "metadata": {
    "scrolled": true
   },
   "outputs": [
    {
     "data": {
      "image/png": "[encoded data removed]",
      "text/plain": [
       "<Figure size 432x288 with 1 Axes>"
      ]
     },
     "metadata": {
      "needs_background": "light"
     },
     "output_type": "display_data"
    }
   ],
   "source": [
    "mergings = linkage(dat3_1, method=\"single\", metric='euclidean')\n",
    "dendrogram(mergings)\n",
    "plt.show()\n",
    "#single linkage"
   ]
  },
  {
   "cell_type": "code",
   "execution_count": 67,
   "metadata": {},
   "outputs": [
    {
     "data": {
      "image/png": "[encoded data removed]",
      "text/plain": [
       "<Figure size 432x288 with 1 Axes>"
      ]
     },
     "metadata": {
      "needs_background": "light"
     },
     "output_type": "display_data"
    }
   ],
   "source": [
    "mergings = linkage(dat3_1, method=\"complete\", metric='euclidean')\n",
    "dendrogram(mergings)\n",
    "plt.show()\n",
    "#complete linkage"
   ]
  },
  {
   "cell_type": "code",
   "execution_count": 68,
   "metadata": {},
   "outputs": [
    {
     "data": {
      "text/plain": [
       "array([0, 0, 0, 0, 0, 0, 0, 1, 1, 0, 1, 2, 0, 1, 0, 2, 0, 0, 0, 0, 1, 0,\n",
       "       1, 2, 0, 0, 0, 0, 0, 1, 0, 0, 0, 1, 0, 1, 0, 0, 0, 1, 0, 1, 2, 2,\n",
       "       1, 0, 0, 0, 0, 0, 0, 2, 0, 1, 1, 0, 0, 1, 1, 0, 1, 0, 0, 0, 0, 0,\n",
       "       0, 2, 1, 0, 0, 0, 0, 2, 1, 1, 0, 1, 0, 0, 0, 0, 2, 0, 0, 0, 0, 0,\n",
       "       0, 2, 2, 2, 0, 0, 0, 2, 2, 0, 2, 0, 0, 0, 0, 0, 0, 0, 0, 0, 0, 0,\n",
       "       2, 1, 0, 0, 1, 2, 0, 2, 0, 0, 0, 1, 1, 2, 0, 0, 0, 0, 2, 0, 1, 2,\n",
       "       0, 2, 2, 2, 0, 0, 2, 1, 0, 0, 0, 0, 1, 2, 0, 0, 2, 0, 0, 0, 0, 1,\n",
       "       0, 0, 0, 2, 1, 1, 1, 0, 0, 0, 0, 0, 0])"
      ]
     },
     "execution_count": 68,
     "metadata": {},
     "output_type": "execute_result"
    }
   ],
   "source": [
    "cluster_labels = cut_tree(mergings, n_clusters=3).reshape(-1, )\n",
    "cluster_labels\n",
    "#got the cluster labels"
   ]
  },
  {
   "cell_type": "code",
   "execution_count": 69,
   "metadata": {},
   "outputs": [
    {
     "data": {
      "text/html": [
       "<div>\n",
       "<style scoped>\n",
       "    .dataframe tbody tr th:only-of-type {\n",
       "        vertical-align: middle;\n",
       "    }\n",
       "\n",
       "    .dataframe tbody tr th {\n",
       "        vertical-align: top;\n",
       "    }\n",
       "\n",
       "    .dataframe thead th {\n",
       "        text-align: right;\n",
       "    }\n",
       "</style>\n",
       "<table border=\"1\" class=\"dataframe\">\n",
       "  <thead>\n",
       "    <tr style=\"text-align: right;\">\n",
       "      <th></th>\n",
       "      <th>country</th>\n",
       "      <th>child_mort</th>\n",
       "      <th>exports</th>\n",
       "      <th>health</th>\n",
       "      <th>imports</th>\n",
       "      <th>income</th>\n",
       "      <th>inflation</th>\n",
       "      <th>life_expec</th>\n",
       "      <th>total_fer</th>\n",
       "      <th>gdpp</th>\n",
       "      <th>ClusterID</th>\n",
       "      <th>cluster_labels</th>\n",
       "    </tr>\n",
       "  </thead>\n",
       "  <tbody>\n",
       "    <tr>\n",
       "      <th>0</th>\n",
       "      <td>Afghanistan</td>\n",
       "      <td>90.2</td>\n",
       "      <td>10.0</td>\n",
       "      <td>7.58</td>\n",
       "      <td>44.9</td>\n",
       "      <td>1610.0</td>\n",
       "      <td>9.44</td>\n",
       "      <td>56.2</td>\n",
       "      <td>5.82</td>\n",
       "      <td>553.0</td>\n",
       "      <td>0</td>\n",
       "      <td>0</td>\n",
       "    </tr>\n",
       "    <tr>\n",
       "      <th>1</th>\n",
       "      <td>Albania</td>\n",
       "      <td>16.6</td>\n",
       "      <td>28.0</td>\n",
       "      <td>6.55</td>\n",
       "      <td>48.6</td>\n",
       "      <td>9930.0</td>\n",
       "      <td>4.49</td>\n",
       "      <td>76.3</td>\n",
       "      <td>1.65</td>\n",
       "      <td>4090.0</td>\n",
       "      <td>1</td>\n",
       "      <td>0</td>\n",
       "    </tr>\n",
       "    <tr>\n",
       "      <th>2</th>\n",
       "      <td>Algeria</td>\n",
       "      <td>27.3</td>\n",
       "      <td>38.4</td>\n",
       "      <td>4.17</td>\n",
       "      <td>31.4</td>\n",
       "      <td>12900.0</td>\n",
       "      <td>16.10</td>\n",
       "      <td>76.5</td>\n",
       "      <td>2.89</td>\n",
       "      <td>4460.0</td>\n",
       "      <td>1</td>\n",
       "      <td>0</td>\n",
       "    </tr>\n",
       "    <tr>\n",
       "      <th>3</th>\n",
       "      <td>Angola</td>\n",
       "      <td>119.0</td>\n",
       "      <td>62.3</td>\n",
       "      <td>2.85</td>\n",
       "      <td>42.9</td>\n",
       "      <td>5900.0</td>\n",
       "      <td>22.40</td>\n",
       "      <td>60.1</td>\n",
       "      <td>6.16</td>\n",
       "      <td>3530.0</td>\n",
       "      <td>0</td>\n",
       "      <td>0</td>\n",
       "    </tr>\n",
       "    <tr>\n",
       "      <th>4</th>\n",
       "      <td>Antigua and Barbuda</td>\n",
       "      <td>10.3</td>\n",
       "      <td>45.5</td>\n",
       "      <td>6.03</td>\n",
       "      <td>58.9</td>\n",
       "      <td>19100.0</td>\n",
       "      <td>1.44</td>\n",
       "      <td>76.8</td>\n",
       "      <td>2.13</td>\n",
       "      <td>12200.0</td>\n",
       "      <td>1</td>\n",
       "      <td>0</td>\n",
       "    </tr>\n",
       "  </tbody>\n",
       "</table>\n",
       "</div>"
      ],
      "text/plain": [
       "               country  child_mort  exports  health  imports   income  \\\n",
       "0          Afghanistan        90.2     10.0    7.58     44.9   1610.0   \n",
       "1              Albania        16.6     28.0    6.55     48.6   9930.0   \n",
       "2              Algeria        27.3     38.4    4.17     31.4  12900.0   \n",
       "3               Angola       119.0     62.3    2.85     42.9   5900.0   \n",
       "4  Antigua and Barbuda        10.3     45.5    6.03     58.9  19100.0   \n",
       "\n",
       "   inflation  life_expec  total_fer     gdpp  ClusterID  cluster_labels  \n",
       "0       9.44        56.2       5.82    553.0          0               0  \n",
       "1       4.49        76.3       1.65   4090.0          1               0  \n",
       "2      16.10        76.5       2.89   4460.0          1               0  \n",
       "3      22.40        60.1       6.16   3530.0          0               0  \n",
       "4       1.44        76.8       2.13  12200.0          1               0  "
      ]
     },
     "execution_count": 69,
     "metadata": {},
     "output_type": "execute_result"
    }
   ],
   "source": [
    "dat5['cluster_labels'] = cluster_labels\n",
    "dat5.head()\n",
    "# added the cluster labels to the server"
   ]
  },
  {
   "cell_type": "code",
   "execution_count": 70,
   "metadata": {},
   "outputs": [
    {
     "data": {
      "text/plain": [
       "<matplotlib.axes._subplots.AxesSubplot at 0x2cdfcc53160>"
      ]
     },
     "execution_count": 70,
     "metadata": {},
     "output_type": "execute_result"
    },
    {
     "data": {
      "image/png": "[encoded data removed]",
      "text/plain": [
       "<Figure size 432x288 with 1 Axes>"
      ]
     },
     "metadata": {
      "needs_background": "light"
     },
     "output_type": "display_data"
    }
   ],
   "source": [
    "sns.boxplot(x='cluster_labels', y='gdpp', data=dat5)"
   ]
  },
  {
   "cell_type": "code",
   "execution_count": 71,
   "metadata": {},
   "outputs": [
    {
     "data": {
      "text/plain": [
       "<matplotlib.axes._subplots.AxesSubplot at 0x2cdfcc53630>"
      ]
     },
     "execution_count": 71,
     "metadata": {},
     "output_type": "execute_result"
    },
    {
     "data": {
      "image/png": "[encoded data removed]",
      "text/plain": [
       "<Figure size 432x288 with 1 Axes>"
      ]
     },
     "metadata": {
      "needs_background": "light"
     },
     "output_type": "display_data"
    }
   ],
   "source": [
    "sns.boxplot(x='cluster_labels', y='income', data=dat5)"
   ]
  },
  {
   "cell_type": "code",
   "execution_count": 72,
   "metadata": {},
   "outputs": [
    {
     "data": {
      "text/plain": [
       "<matplotlib.axes._subplots.AxesSubplot at 0x2cdfcd29710>"
      ]
     },
     "execution_count": 72,
     "metadata": {},
     "output_type": "execute_result"
    },
    {
     "data": {
      "image/png": "[encoded data removed]",
      "text/plain": [
       "<Figure size 432x288 with 1 Axes>"
      ]
     },
     "metadata": {
      "needs_background": "light"
     },
     "output_type": "display_data"
    }
   ],
   "source": [
    "sns.boxplot(x='cluster_labels', y='child_mort', data=dat5)"
   ]
  },
  {
   "cell_type": "code",
   "execution_count": 73,
   "metadata": {},
   "outputs": [
    {
     "data": {
      "text/html": [
       "<div>\n",
       "<style scoped>\n",
       "    .dataframe tbody tr th:only-of-type {\n",
       "        vertical-align: middle;\n",
       "    }\n",
       "\n",
       "    .dataframe tbody tr th {\n",
       "        vertical-align: top;\n",
       "    }\n",
       "\n",
       "    .dataframe thead th {\n",
       "        text-align: right;\n",
       "    }\n",
       "</style>\n",
       "<table border=\"1\" class=\"dataframe\">\n",
       "  <thead>\n",
       "    <tr style=\"text-align: right;\">\n",
       "      <th></th>\n",
       "      <th>country</th>\n",
       "      <th>child_mort</th>\n",
       "      <th>exports</th>\n",
       "      <th>health</th>\n",
       "      <th>imports</th>\n",
       "      <th>income</th>\n",
       "      <th>inflation</th>\n",
       "      <th>life_expec</th>\n",
       "      <th>total_fer</th>\n",
       "      <th>gdpp</th>\n",
       "      <th>ClusterID</th>\n",
       "      <th>cluster_labels</th>\n",
       "    </tr>\n",
       "  </thead>\n",
       "  <tbody>\n",
       "    <tr>\n",
       "      <th>26</th>\n",
       "      <td>Burundi</td>\n",
       "      <td>93.60</td>\n",
       "      <td>8.92</td>\n",
       "      <td>11.60</td>\n",
       "      <td>39.2</td>\n",
       "      <td>764.0</td>\n",
       "      <td>12.300</td>\n",
       "      <td>57.700</td>\n",
       "      <td>6.2600</td>\n",
       "      <td>231.0</td>\n",
       "      <td>0</td>\n",
       "      <td>0</td>\n",
       "    </tr>\n",
       "    <tr>\n",
       "      <th>88</th>\n",
       "      <td>Liberia</td>\n",
       "      <td>89.30</td>\n",
       "      <td>19.10</td>\n",
       "      <td>11.80</td>\n",
       "      <td>92.6</td>\n",
       "      <td>700.0</td>\n",
       "      <td>5.470</td>\n",
       "      <td>60.800</td>\n",
       "      <td>5.0200</td>\n",
       "      <td>327.0</td>\n",
       "      <td>0</td>\n",
       "      <td>0</td>\n",
       "    </tr>\n",
       "    <tr>\n",
       "      <th>37</th>\n",
       "      <td>Congo, Dem. Rep.</td>\n",
       "      <td>116.00</td>\n",
       "      <td>41.10</td>\n",
       "      <td>7.91</td>\n",
       "      <td>49.6</td>\n",
       "      <td>609.0</td>\n",
       "      <td>20.800</td>\n",
       "      <td>57.500</td>\n",
       "      <td>6.5400</td>\n",
       "      <td>334.0</td>\n",
       "      <td>0</td>\n",
       "      <td>0</td>\n",
       "    </tr>\n",
       "    <tr>\n",
       "      <th>112</th>\n",
       "      <td>Niger</td>\n",
       "      <td>123.00</td>\n",
       "      <td>22.20</td>\n",
       "      <td>5.16</td>\n",
       "      <td>49.1</td>\n",
       "      <td>814.0</td>\n",
       "      <td>2.550</td>\n",
       "      <td>58.800</td>\n",
       "      <td>6.5636</td>\n",
       "      <td>348.0</td>\n",
       "      <td>0</td>\n",
       "      <td>0</td>\n",
       "    </tr>\n",
       "    <tr>\n",
       "      <th>132</th>\n",
       "      <td>Sierra Leone</td>\n",
       "      <td>130.14</td>\n",
       "      <td>16.80</td>\n",
       "      <td>13.10</td>\n",
       "      <td>34.5</td>\n",
       "      <td>1220.0</td>\n",
       "      <td>17.200</td>\n",
       "      <td>55.000</td>\n",
       "      <td>5.2000</td>\n",
       "      <td>399.0</td>\n",
       "      <td>0</td>\n",
       "      <td>0</td>\n",
       "    </tr>\n",
       "    <tr>\n",
       "      <th>93</th>\n",
       "      <td>Madagascar</td>\n",
       "      <td>62.20</td>\n",
       "      <td>25.00</td>\n",
       "      <td>3.77</td>\n",
       "      <td>43.0</td>\n",
       "      <td>1390.0</td>\n",
       "      <td>8.790</td>\n",
       "      <td>60.800</td>\n",
       "      <td>4.6000</td>\n",
       "      <td>413.0</td>\n",
       "      <td>0</td>\n",
       "      <td>0</td>\n",
       "    </tr>\n",
       "    <tr>\n",
       "      <th>106</th>\n",
       "      <td>Mozambique</td>\n",
       "      <td>101.00</td>\n",
       "      <td>31.50</td>\n",
       "      <td>5.21</td>\n",
       "      <td>46.2</td>\n",
       "      <td>918.0</td>\n",
       "      <td>7.640</td>\n",
       "      <td>54.500</td>\n",
       "      <td>5.5600</td>\n",
       "      <td>419.0</td>\n",
       "      <td>0</td>\n",
       "      <td>0</td>\n",
       "    </tr>\n",
       "    <tr>\n",
       "      <th>31</th>\n",
       "      <td>Central African Republic</td>\n",
       "      <td>130.14</td>\n",
       "      <td>11.80</td>\n",
       "      <td>3.98</td>\n",
       "      <td>26.5</td>\n",
       "      <td>888.0</td>\n",
       "      <td>2.010</td>\n",
       "      <td>52.352</td>\n",
       "      <td>5.2100</td>\n",
       "      <td>446.0</td>\n",
       "      <td>0</td>\n",
       "      <td>0</td>\n",
       "    </tr>\n",
       "    <tr>\n",
       "      <th>94</th>\n",
       "      <td>Malawi</td>\n",
       "      <td>90.50</td>\n",
       "      <td>22.80</td>\n",
       "      <td>6.59</td>\n",
       "      <td>34.9</td>\n",
       "      <td>1030.0</td>\n",
       "      <td>12.100</td>\n",
       "      <td>53.100</td>\n",
       "      <td>5.3100</td>\n",
       "      <td>459.0</td>\n",
       "      <td>0</td>\n",
       "      <td>0</td>\n",
       "    </tr>\n",
       "    <tr>\n",
       "      <th>50</th>\n",
       "      <td>Eritrea</td>\n",
       "      <td>55.20</td>\n",
       "      <td>4.79</td>\n",
       "      <td>2.66</td>\n",
       "      <td>23.3</td>\n",
       "      <td>1420.0</td>\n",
       "      <td>11.600</td>\n",
       "      <td>61.700</td>\n",
       "      <td>4.6100</td>\n",
       "      <td>482.0</td>\n",
       "      <td>0</td>\n",
       "      <td>0</td>\n",
       "    </tr>\n",
       "    <tr>\n",
       "      <th>150</th>\n",
       "      <td>Togo</td>\n",
       "      <td>90.30</td>\n",
       "      <td>40.20</td>\n",
       "      <td>7.65</td>\n",
       "      <td>57.3</td>\n",
       "      <td>1210.0</td>\n",
       "      <td>1.180</td>\n",
       "      <td>58.700</td>\n",
       "      <td>4.8700</td>\n",
       "      <td>488.0</td>\n",
       "      <td>0</td>\n",
       "      <td>0</td>\n",
       "    </tr>\n",
       "    <tr>\n",
       "      <th>64</th>\n",
       "      <td>Guinea-Bissau</td>\n",
       "      <td>114.00</td>\n",
       "      <td>14.90</td>\n",
       "      <td>8.50</td>\n",
       "      <td>35.2</td>\n",
       "      <td>1390.0</td>\n",
       "      <td>2.970</td>\n",
       "      <td>55.600</td>\n",
       "      <td>5.0500</td>\n",
       "      <td>547.0</td>\n",
       "      <td>0</td>\n",
       "      <td>0</td>\n",
       "    </tr>\n",
       "    <tr>\n",
       "      <th>0</th>\n",
       "      <td>Afghanistan</td>\n",
       "      <td>90.20</td>\n",
       "      <td>10.00</td>\n",
       "      <td>7.58</td>\n",
       "      <td>44.9</td>\n",
       "      <td>1610.0</td>\n",
       "      <td>9.440</td>\n",
       "      <td>56.200</td>\n",
       "      <td>5.8200</td>\n",
       "      <td>553.0</td>\n",
       "      <td>0</td>\n",
       "      <td>0</td>\n",
       "    </tr>\n",
       "    <tr>\n",
       "      <th>56</th>\n",
       "      <td>Gambia</td>\n",
       "      <td>80.30</td>\n",
       "      <td>23.80</td>\n",
       "      <td>5.69</td>\n",
       "      <td>42.7</td>\n",
       "      <td>1660.0</td>\n",
       "      <td>4.300</td>\n",
       "      <td>65.500</td>\n",
       "      <td>5.7100</td>\n",
       "      <td>562.0</td>\n",
       "      <td>0</td>\n",
       "      <td>0</td>\n",
       "    </tr>\n",
       "    <tr>\n",
       "      <th>126</th>\n",
       "      <td>Rwanda</td>\n",
       "      <td>63.60</td>\n",
       "      <td>12.00</td>\n",
       "      <td>10.50</td>\n",
       "      <td>30.0</td>\n",
       "      <td>1350.0</td>\n",
       "      <td>2.610</td>\n",
       "      <td>64.600</td>\n",
       "      <td>4.5100</td>\n",
       "      <td>563.0</td>\n",
       "      <td>0</td>\n",
       "      <td>0</td>\n",
       "    </tr>\n",
       "    <tr>\n",
       "      <th>25</th>\n",
       "      <td>Burkina Faso</td>\n",
       "      <td>116.00</td>\n",
       "      <td>19.20</td>\n",
       "      <td>6.74</td>\n",
       "      <td>29.6</td>\n",
       "      <td>1430.0</td>\n",
       "      <td>6.810</td>\n",
       "      <td>57.900</td>\n",
       "      <td>5.8700</td>\n",
       "      <td>575.0</td>\n",
       "      <td>0</td>\n",
       "      <td>0</td>\n",
       "    </tr>\n",
       "    <tr>\n",
       "      <th>109</th>\n",
       "      <td>Nepal</td>\n",
       "      <td>47.00</td>\n",
       "      <td>9.58</td>\n",
       "      <td>5.25</td>\n",
       "      <td>36.4</td>\n",
       "      <td>1990.0</td>\n",
       "      <td>15.100</td>\n",
       "      <td>68.300</td>\n",
       "      <td>2.6100</td>\n",
       "      <td>592.0</td>\n",
       "      <td>1</td>\n",
       "      <td>0</td>\n",
       "    </tr>\n",
       "    <tr>\n",
       "      <th>155</th>\n",
       "      <td>Uganda</td>\n",
       "      <td>81.00</td>\n",
       "      <td>17.10</td>\n",
       "      <td>9.01</td>\n",
       "      <td>28.6</td>\n",
       "      <td>1540.0</td>\n",
       "      <td>10.600</td>\n",
       "      <td>56.800</td>\n",
       "      <td>6.1500</td>\n",
       "      <td>595.0</td>\n",
       "      <td>0</td>\n",
       "      <td>0</td>\n",
       "    </tr>\n",
       "    <tr>\n",
       "      <th>63</th>\n",
       "      <td>Guinea</td>\n",
       "      <td>109.00</td>\n",
       "      <td>30.30</td>\n",
       "      <td>4.93</td>\n",
       "      <td>43.2</td>\n",
       "      <td>1190.0</td>\n",
       "      <td>16.100</td>\n",
       "      <td>58.000</td>\n",
       "      <td>5.3400</td>\n",
       "      <td>648.0</td>\n",
       "      <td>0</td>\n",
       "      <td>0</td>\n",
       "    </tr>\n",
       "    <tr>\n",
       "      <th>66</th>\n",
       "      <td>Haiti</td>\n",
       "      <td>130.14</td>\n",
       "      <td>15.30</td>\n",
       "      <td>6.91</td>\n",
       "      <td>64.7</td>\n",
       "      <td>1500.0</td>\n",
       "      <td>5.450</td>\n",
       "      <td>52.352</td>\n",
       "      <td>3.3300</td>\n",
       "      <td>662.0</td>\n",
       "      <td>0</td>\n",
       "      <td>0</td>\n",
       "    </tr>\n",
       "    <tr>\n",
       "      <th>147</th>\n",
       "      <td>Tanzania</td>\n",
       "      <td>71.90</td>\n",
       "      <td>18.70</td>\n",
       "      <td>6.01</td>\n",
       "      <td>29.1</td>\n",
       "      <td>2090.0</td>\n",
       "      <td>9.250</td>\n",
       "      <td>59.300</td>\n",
       "      <td>5.4300</td>\n",
       "      <td>702.0</td>\n",
       "      <td>0</td>\n",
       "      <td>0</td>\n",
       "    </tr>\n",
       "    <tr>\n",
       "      <th>97</th>\n",
       "      <td>Mali</td>\n",
       "      <td>130.14</td>\n",
       "      <td>22.80</td>\n",
       "      <td>4.98</td>\n",
       "      <td>35.1</td>\n",
       "      <td>1870.0</td>\n",
       "      <td>4.370</td>\n",
       "      <td>59.500</td>\n",
       "      <td>6.5500</td>\n",
       "      <td>708.0</td>\n",
       "      <td>0</td>\n",
       "      <td>0</td>\n",
       "    </tr>\n",
       "    <tr>\n",
       "      <th>146</th>\n",
       "      <td>Tajikistan</td>\n",
       "      <td>52.40</td>\n",
       "      <td>14.90</td>\n",
       "      <td>5.98</td>\n",
       "      <td>58.6</td>\n",
       "      <td>2110.0</td>\n",
       "      <td>12.500</td>\n",
       "      <td>69.600</td>\n",
       "      <td>3.5100</td>\n",
       "      <td>738.0</td>\n",
       "      <td>1</td>\n",
       "      <td>0</td>\n",
       "    </tr>\n",
       "    <tr>\n",
       "      <th>17</th>\n",
       "      <td>Benin</td>\n",
       "      <td>111.00</td>\n",
       "      <td>23.80</td>\n",
       "      <td>4.10</td>\n",
       "      <td>37.2</td>\n",
       "      <td>1820.0</td>\n",
       "      <td>0.885</td>\n",
       "      <td>61.800</td>\n",
       "      <td>5.3600</td>\n",
       "      <td>758.0</td>\n",
       "      <td>0</td>\n",
       "      <td>0</td>\n",
       "    </tr>\n",
       "    <tr>\n",
       "      <th>12</th>\n",
       "      <td>Bangladesh</td>\n",
       "      <td>49.40</td>\n",
       "      <td>16.00</td>\n",
       "      <td>3.52</td>\n",
       "      <td>21.8</td>\n",
       "      <td>2440.0</td>\n",
       "      <td>7.140</td>\n",
       "      <td>70.400</td>\n",
       "      <td>2.3300</td>\n",
       "      <td>758.0</td>\n",
       "      <td>1</td>\n",
       "      <td>0</td>\n",
       "    </tr>\n",
       "    <tr>\n",
       "      <th>36</th>\n",
       "      <td>Comoros</td>\n",
       "      <td>88.20</td>\n",
       "      <td>16.50</td>\n",
       "      <td>4.51</td>\n",
       "      <td>51.7</td>\n",
       "      <td>1410.0</td>\n",
       "      <td>3.870</td>\n",
       "      <td>65.900</td>\n",
       "      <td>4.7500</td>\n",
       "      <td>769.0</td>\n",
       "      <td>0</td>\n",
       "      <td>0</td>\n",
       "    </tr>\n",
       "    <tr>\n",
       "      <th>27</th>\n",
       "      <td>Cambodia</td>\n",
       "      <td>44.40</td>\n",
       "      <td>54.10</td>\n",
       "      <td>5.68</td>\n",
       "      <td>59.5</td>\n",
       "      <td>2520.0</td>\n",
       "      <td>3.120</td>\n",
       "      <td>66.100</td>\n",
       "      <td>2.8800</td>\n",
       "      <td>786.0</td>\n",
       "      <td>1</td>\n",
       "      <td>0</td>\n",
       "    </tr>\n",
       "    <tr>\n",
       "      <th>83</th>\n",
       "      <td>Kyrgyz Republic</td>\n",
       "      <td>29.60</td>\n",
       "      <td>51.60</td>\n",
       "      <td>6.18</td>\n",
       "      <td>81.7</td>\n",
       "      <td>2790.0</td>\n",
       "      <td>10.000</td>\n",
       "      <td>68.500</td>\n",
       "      <td>3.1000</td>\n",
       "      <td>880.0</td>\n",
       "      <td>1</td>\n",
       "      <td>0</td>\n",
       "    </tr>\n",
       "    <tr>\n",
       "      <th>32</th>\n",
       "      <td>Chad</td>\n",
       "      <td>130.14</td>\n",
       "      <td>36.80</td>\n",
       "      <td>4.53</td>\n",
       "      <td>43.5</td>\n",
       "      <td>1930.0</td>\n",
       "      <td>6.390</td>\n",
       "      <td>56.500</td>\n",
       "      <td>6.5636</td>\n",
       "      <td>897.0</td>\n",
       "      <td>0</td>\n",
       "      <td>0</td>\n",
       "    </tr>\n",
       "    <tr>\n",
       "      <th>80</th>\n",
       "      <td>Kenya</td>\n",
       "      <td>62.20</td>\n",
       "      <td>20.70</td>\n",
       "      <td>4.75</td>\n",
       "      <td>33.6</td>\n",
       "      <td>2480.0</td>\n",
       "      <td>2.090</td>\n",
       "      <td>62.800</td>\n",
       "      <td>4.3700</td>\n",
       "      <td>967.0</td>\n",
       "      <td>0</td>\n",
       "      <td>0</td>\n",
       "    </tr>\n",
       "    <tr>\n",
       "      <th>...</th>\n",
       "      <td>...</td>\n",
       "      <td>...</td>\n",
       "      <td>...</td>\n",
       "      <td>...</td>\n",
       "      <td>...</td>\n",
       "      <td>...</td>\n",
       "      <td>...</td>\n",
       "      <td>...</td>\n",
       "      <td>...</td>\n",
       "      <td>...</td>\n",
       "      <td>...</td>\n",
       "      <td>...</td>\n",
       "    </tr>\n",
       "    <tr>\n",
       "      <th>2</th>\n",
       "      <td>Algeria</td>\n",
       "      <td>27.30</td>\n",
       "      <td>38.40</td>\n",
       "      <td>4.17</td>\n",
       "      <td>31.4</td>\n",
       "      <td>12900.0</td>\n",
       "      <td>16.100</td>\n",
       "      <td>76.500</td>\n",
       "      <td>2.8900</td>\n",
       "      <td>4460.0</td>\n",
       "      <td>1</td>\n",
       "      <td>0</td>\n",
       "    </tr>\n",
       "    <tr>\n",
       "      <th>72</th>\n",
       "      <td>Iraq</td>\n",
       "      <td>36.90</td>\n",
       "      <td>39.40</td>\n",
       "      <td>8.41</td>\n",
       "      <td>34.1</td>\n",
       "      <td>12700.0</td>\n",
       "      <td>16.600</td>\n",
       "      <td>67.200</td>\n",
       "      <td>4.5600</td>\n",
       "      <td>4500.0</td>\n",
       "      <td>0</td>\n",
       "      <td>0</td>\n",
       "    </tr>\n",
       "    <tr>\n",
       "      <th>92</th>\n",
       "      <td>Macedonia, FYR</td>\n",
       "      <td>10.40</td>\n",
       "      <td>39.80</td>\n",
       "      <td>7.09</td>\n",
       "      <td>58.1</td>\n",
       "      <td>11400.0</td>\n",
       "      <td>2.040</td>\n",
       "      <td>74.000</td>\n",
       "      <td>1.4700</td>\n",
       "      <td>4540.0</td>\n",
       "      <td>1</td>\n",
       "      <td>0</td>\n",
       "    </tr>\n",
       "    <tr>\n",
       "      <th>34</th>\n",
       "      <td>China</td>\n",
       "      <td>15.70</td>\n",
       "      <td>26.30</td>\n",
       "      <td>5.07</td>\n",
       "      <td>22.6</td>\n",
       "      <td>9530.0</td>\n",
       "      <td>6.940</td>\n",
       "      <td>74.600</td>\n",
       "      <td>1.5900</td>\n",
       "      <td>4560.0</td>\n",
       "      <td>1</td>\n",
       "      <td>0</td>\n",
       "    </tr>\n",
       "    <tr>\n",
       "      <th>46</th>\n",
       "      <td>Ecuador</td>\n",
       "      <td>25.10</td>\n",
       "      <td>27.90</td>\n",
       "      <td>8.06</td>\n",
       "      <td>32.4</td>\n",
       "      <td>9350.0</td>\n",
       "      <td>7.470</td>\n",
       "      <td>76.700</td>\n",
       "      <td>2.6600</td>\n",
       "      <td>4660.0</td>\n",
       "      <td>1</td>\n",
       "      <td>0</td>\n",
       "    </tr>\n",
       "    <tr>\n",
       "      <th>76</th>\n",
       "      <td>Jamaica</td>\n",
       "      <td>18.10</td>\n",
       "      <td>31.30</td>\n",
       "      <td>4.81</td>\n",
       "      <td>49.6</td>\n",
       "      <td>8000.0</td>\n",
       "      <td>9.810</td>\n",
       "      <td>74.700</td>\n",
       "      <td>2.1700</td>\n",
       "      <td>4680.0</td>\n",
       "      <td>1</td>\n",
       "      <td>0</td>\n",
       "    </tr>\n",
       "    <tr>\n",
       "      <th>119</th>\n",
       "      <td>Peru</td>\n",
       "      <td>20.30</td>\n",
       "      <td>27.80</td>\n",
       "      <td>5.08</td>\n",
       "      <td>23.8</td>\n",
       "      <td>9960.0</td>\n",
       "      <td>5.710</td>\n",
       "      <td>77.900</td>\n",
       "      <td>2.5400</td>\n",
       "      <td>5020.0</td>\n",
       "      <td>1</td>\n",
       "      <td>0</td>\n",
       "    </tr>\n",
       "    <tr>\n",
       "      <th>108</th>\n",
       "      <td>Namibia</td>\n",
       "      <td>56.00</td>\n",
       "      <td>47.80</td>\n",
       "      <td>6.78</td>\n",
       "      <td>60.7</td>\n",
       "      <td>8460.0</td>\n",
       "      <td>3.560</td>\n",
       "      <td>58.600</td>\n",
       "      <td>3.6000</td>\n",
       "      <td>5190.0</td>\n",
       "      <td>0</td>\n",
       "      <td>0</td>\n",
       "    </tr>\n",
       "    <tr>\n",
       "      <th>45</th>\n",
       "      <td>Dominican Republic</td>\n",
       "      <td>34.40</td>\n",
       "      <td>22.70</td>\n",
       "      <td>6.22</td>\n",
       "      <td>33.3</td>\n",
       "      <td>11100.0</td>\n",
       "      <td>5.440</td>\n",
       "      <td>74.600</td>\n",
       "      <td>2.6000</td>\n",
       "      <td>5450.0</td>\n",
       "      <td>1</td>\n",
       "      <td>0</td>\n",
       "    </tr>\n",
       "    <tr>\n",
       "      <th>9</th>\n",
       "      <td>Azerbaijan</td>\n",
       "      <td>39.20</td>\n",
       "      <td>54.30</td>\n",
       "      <td>5.88</td>\n",
       "      <td>20.7</td>\n",
       "      <td>16000.0</td>\n",
       "      <td>13.800</td>\n",
       "      <td>69.100</td>\n",
       "      <td>1.9200</td>\n",
       "      <td>5840.0</td>\n",
       "      <td>1</td>\n",
       "      <td>0</td>\n",
       "    </tr>\n",
       "    <tr>\n",
       "      <th>14</th>\n",
       "      <td>Belarus</td>\n",
       "      <td>5.50</td>\n",
       "      <td>51.40</td>\n",
       "      <td>5.61</td>\n",
       "      <td>64.5</td>\n",
       "      <td>16200.0</td>\n",
       "      <td>15.100</td>\n",
       "      <td>70.400</td>\n",
       "      <td>1.4900</td>\n",
       "      <td>6030.0</td>\n",
       "      <td>1</td>\n",
       "      <td>0</td>\n",
       "    </tr>\n",
       "    <tr>\n",
       "      <th>141</th>\n",
       "      <td>St. Vincent and the Grenadines</td>\n",
       "      <td>20.70</td>\n",
       "      <td>26.90</td>\n",
       "      <td>4.47</td>\n",
       "      <td>57.1</td>\n",
       "      <td>9920.0</td>\n",
       "      <td>4.440</td>\n",
       "      <td>71.600</td>\n",
       "      <td>2.0700</td>\n",
       "      <td>6230.0</td>\n",
       "      <td>1</td>\n",
       "      <td>0</td>\n",
       "    </tr>\n",
       "    <tr>\n",
       "      <th>21</th>\n",
       "      <td>Botswana</td>\n",
       "      <td>52.50</td>\n",
       "      <td>43.60</td>\n",
       "      <td>8.30</td>\n",
       "      <td>51.3</td>\n",
       "      <td>13300.0</td>\n",
       "      <td>8.920</td>\n",
       "      <td>57.100</td>\n",
       "      <td>2.8800</td>\n",
       "      <td>6350.0</td>\n",
       "      <td>1</td>\n",
       "      <td>0</td>\n",
       "    </tr>\n",
       "    <tr>\n",
       "      <th>71</th>\n",
       "      <td>Iran</td>\n",
       "      <td>19.30</td>\n",
       "      <td>24.40</td>\n",
       "      <td>5.60</td>\n",
       "      <td>19.4</td>\n",
       "      <td>17400.0</td>\n",
       "      <td>15.900</td>\n",
       "      <td>74.500</td>\n",
       "      <td>1.7600</td>\n",
       "      <td>6530.0</td>\n",
       "      <td>1</td>\n",
       "      <td>0</td>\n",
       "    </tr>\n",
       "    <tr>\n",
       "      <th>104</th>\n",
       "      <td>Montenegro</td>\n",
       "      <td>6.80</td>\n",
       "      <td>37.00</td>\n",
       "      <td>9.11</td>\n",
       "      <td>62.7</td>\n",
       "      <td>14000.0</td>\n",
       "      <td>1.600</td>\n",
       "      <td>76.400</td>\n",
       "      <td>1.7700</td>\n",
       "      <td>6680.0</td>\n",
       "      <td>1</td>\n",
       "      <td>0</td>\n",
       "    </tr>\n",
       "    <tr>\n",
       "      <th>24</th>\n",
       "      <td>Bulgaria</td>\n",
       "      <td>10.80</td>\n",
       "      <td>50.20</td>\n",
       "      <td>6.87</td>\n",
       "      <td>53.0</td>\n",
       "      <td>15300.0</td>\n",
       "      <td>1.110</td>\n",
       "      <td>73.900</td>\n",
       "      <td>1.5700</td>\n",
       "      <td>6840.0</td>\n",
       "      <td>1</td>\n",
       "      <td>0</td>\n",
       "    </tr>\n",
       "    <tr>\n",
       "      <th>137</th>\n",
       "      <td>South Africa</td>\n",
       "      <td>53.70</td>\n",
       "      <td>28.60</td>\n",
       "      <td>8.94</td>\n",
       "      <td>27.4</td>\n",
       "      <td>12000.0</td>\n",
       "      <td>6.350</td>\n",
       "      <td>54.300</td>\n",
       "      <td>2.5900</td>\n",
       "      <td>7280.0</td>\n",
       "      <td>0</td>\n",
       "      <td>0</td>\n",
       "    </tr>\n",
       "    <tr>\n",
       "      <th>61</th>\n",
       "      <td>Grenada</td>\n",
       "      <td>14.60</td>\n",
       "      <td>23.80</td>\n",
       "      <td>5.86</td>\n",
       "      <td>49.2</td>\n",
       "      <td>11200.0</td>\n",
       "      <td>0.480</td>\n",
       "      <td>71.300</td>\n",
       "      <td>2.2400</td>\n",
       "      <td>7370.0</td>\n",
       "      <td>1</td>\n",
       "      <td>0</td>\n",
       "    </tr>\n",
       "    <tr>\n",
       "      <th>100</th>\n",
       "      <td>Mauritius</td>\n",
       "      <td>15.00</td>\n",
       "      <td>51.20</td>\n",
       "      <td>6.00</td>\n",
       "      <td>62.2</td>\n",
       "      <td>15900.0</td>\n",
       "      <td>1.130</td>\n",
       "      <td>73.400</td>\n",
       "      <td>1.5700</td>\n",
       "      <td>8000.0</td>\n",
       "      <td>1</td>\n",
       "      <td>0</td>\n",
       "    </tr>\n",
       "    <tr>\n",
       "      <th>124</th>\n",
       "      <td>Romania</td>\n",
       "      <td>11.50</td>\n",
       "      <td>32.60</td>\n",
       "      <td>5.58</td>\n",
       "      <td>38.8</td>\n",
       "      <td>17800.0</td>\n",
       "      <td>3.530</td>\n",
       "      <td>73.700</td>\n",
       "      <td>1.5900</td>\n",
       "      <td>8230.0</td>\n",
       "      <td>1</td>\n",
       "      <td>0</td>\n",
       "    </tr>\n",
       "    <tr>\n",
       "      <th>143</th>\n",
       "      <td>Suriname</td>\n",
       "      <td>24.10</td>\n",
       "      <td>52.50</td>\n",
       "      <td>7.01</td>\n",
       "      <td>38.4</td>\n",
       "      <td>14200.0</td>\n",
       "      <td>7.200</td>\n",
       "      <td>70.300</td>\n",
       "      <td>2.5200</td>\n",
       "      <td>8300.0</td>\n",
       "      <td>1</td>\n",
       "      <td>0</td>\n",
       "    </tr>\n",
       "    <tr>\n",
       "      <th>55</th>\n",
       "      <td>Gabon</td>\n",
       "      <td>63.70</td>\n",
       "      <td>57.70</td>\n",
       "      <td>3.50</td>\n",
       "      <td>18.9</td>\n",
       "      <td>15400.0</td>\n",
       "      <td>16.600</td>\n",
       "      <td>62.900</td>\n",
       "      <td>4.0800</td>\n",
       "      <td>8750.0</td>\n",
       "      <td>0</td>\n",
       "      <td>0</td>\n",
       "    </tr>\n",
       "    <tr>\n",
       "      <th>86</th>\n",
       "      <td>Lebanon</td>\n",
       "      <td>10.30</td>\n",
       "      <td>35.80</td>\n",
       "      <td>7.03</td>\n",
       "      <td>60.2</td>\n",
       "      <td>16300.0</td>\n",
       "      <td>0.238</td>\n",
       "      <td>79.800</td>\n",
       "      <td>1.6100</td>\n",
       "      <td>8860.0</td>\n",
       "      <td>1</td>\n",
       "      <td>0</td>\n",
       "    </tr>\n",
       "    <tr>\n",
       "      <th>79</th>\n",
       "      <td>Kazakhstan</td>\n",
       "      <td>21.50</td>\n",
       "      <td>44.20</td>\n",
       "      <td>4.29</td>\n",
       "      <td>29.9</td>\n",
       "      <td>20100.0</td>\n",
       "      <td>19.500</td>\n",
       "      <td>68.400</td>\n",
       "      <td>2.6000</td>\n",
       "      <td>9070.0</td>\n",
       "      <td>1</td>\n",
       "      <td>0</td>\n",
       "    </tr>\n",
       "    <tr>\n",
       "      <th>5</th>\n",
       "      <td>Argentina</td>\n",
       "      <td>14.50</td>\n",
       "      <td>18.90</td>\n",
       "      <td>8.10</td>\n",
       "      <td>16.0</td>\n",
       "      <td>18700.0</td>\n",
       "      <td>20.900</td>\n",
       "      <td>75.800</td>\n",
       "      <td>2.3700</td>\n",
       "      <td>10300.0</td>\n",
       "      <td>1</td>\n",
       "      <td>0</td>\n",
       "    </tr>\n",
       "    <tr>\n",
       "      <th>125</th>\n",
       "      <td>Russia</td>\n",
       "      <td>10.00</td>\n",
       "      <td>29.20</td>\n",
       "      <td>5.08</td>\n",
       "      <td>21.1</td>\n",
       "      <td>23100.0</td>\n",
       "      <td>14.200</td>\n",
       "      <td>69.200</td>\n",
       "      <td>1.5700</td>\n",
       "      <td>10700.0</td>\n",
       "      <td>1</td>\n",
       "      <td>0</td>\n",
       "    </tr>\n",
       "    <tr>\n",
       "      <th>85</th>\n",
       "      <td>Latvia</td>\n",
       "      <td>7.80</td>\n",
       "      <td>53.70</td>\n",
       "      <td>6.68</td>\n",
       "      <td>55.1</td>\n",
       "      <td>18300.0</td>\n",
       "      <td>-0.812</td>\n",
       "      <td>73.100</td>\n",
       "      <td>1.3600</td>\n",
       "      <td>11300.0</td>\n",
       "      <td>1</td>\n",
       "      <td>0</td>\n",
       "    </tr>\n",
       "    <tr>\n",
       "      <th>4</th>\n",
       "      <td>Antigua and Barbuda</td>\n",
       "      <td>10.30</td>\n",
       "      <td>45.50</td>\n",
       "      <td>6.03</td>\n",
       "      <td>58.9</td>\n",
       "      <td>19100.0</td>\n",
       "      <td>1.440</td>\n",
       "      <td>76.800</td>\n",
       "      <td>2.1300</td>\n",
       "      <td>12200.0</td>\n",
       "      <td>1</td>\n",
       "      <td>0</td>\n",
       "    </tr>\n",
       "    <tr>\n",
       "      <th>163</th>\n",
       "      <td>Venezuela</td>\n",
       "      <td>17.10</td>\n",
       "      <td>28.50</td>\n",
       "      <td>4.91</td>\n",
       "      <td>17.6</td>\n",
       "      <td>16500.0</td>\n",
       "      <td>23.626</td>\n",
       "      <td>75.400</td>\n",
       "      <td>2.4700</td>\n",
       "      <td>13500.0</td>\n",
       "      <td>1</td>\n",
       "      <td>0</td>\n",
       "    </tr>\n",
       "    <tr>\n",
       "      <th>49</th>\n",
       "      <td>Equatorial Guinea</td>\n",
       "      <td>111.00</td>\n",
       "      <td>85.80</td>\n",
       "      <td>4.48</td>\n",
       "      <td>58.9</td>\n",
       "      <td>33700.0</td>\n",
       "      <td>23.626</td>\n",
       "      <td>60.900</td>\n",
       "      <td>5.2100</td>\n",
       "      <td>17100.0</td>\n",
       "      <td>0</td>\n",
       "      <td>0</td>\n",
       "    </tr>\n",
       "  </tbody>\n",
       "</table>\n",
       "<p>107 rows × 12 columns</p>\n",
       "</div>"
      ],
      "text/plain": [
       "                            country  child_mort  exports  health  imports  \\\n",
       "26                          Burundi       93.60     8.92   11.60     39.2   \n",
       "88                          Liberia       89.30    19.10   11.80     92.6   \n",
       "37                 Congo, Dem. Rep.      116.00    41.10    7.91     49.6   \n",
       "112                           Niger      123.00    22.20    5.16     49.1   \n",
       "132                    Sierra Leone      130.14    16.80   13.10     34.5   \n",
       "93                       Madagascar       62.20    25.00    3.77     43.0   \n",
       "106                      Mozambique      101.00    31.50    5.21     46.2   \n",
       "31         Central African Republic      130.14    11.80    3.98     26.5   \n",
       "94                           Malawi       90.50    22.80    6.59     34.9   \n",
       "50                          Eritrea       55.20     4.79    2.66     23.3   \n",
       "150                            Togo       90.30    40.20    7.65     57.3   \n",
       "64                    Guinea-Bissau      114.00    14.90    8.50     35.2   \n",
       "0                       Afghanistan       90.20    10.00    7.58     44.9   \n",
       "56                           Gambia       80.30    23.80    5.69     42.7   \n",
       "126                          Rwanda       63.60    12.00   10.50     30.0   \n",
       "25                     Burkina Faso      116.00    19.20    6.74     29.6   \n",
       "109                           Nepal       47.00     9.58    5.25     36.4   \n",
       "155                          Uganda       81.00    17.10    9.01     28.6   \n",
       "63                           Guinea      109.00    30.30    4.93     43.2   \n",
       "66                            Haiti      130.14    15.30    6.91     64.7   \n",
       "147                        Tanzania       71.90    18.70    6.01     29.1   \n",
       "97                             Mali      130.14    22.80    4.98     35.1   \n",
       "146                      Tajikistan       52.40    14.90    5.98     58.6   \n",
       "17                            Benin      111.00    23.80    4.10     37.2   \n",
       "12                       Bangladesh       49.40    16.00    3.52     21.8   \n",
       "36                          Comoros       88.20    16.50    4.51     51.7   \n",
       "27                         Cambodia       44.40    54.10    5.68     59.5   \n",
       "83                  Kyrgyz Republic       29.60    51.60    6.18     81.7   \n",
       "32                             Chad      130.14    36.80    4.53     43.5   \n",
       "80                            Kenya       62.20    20.70    4.75     33.6   \n",
       "..                              ...         ...      ...     ...      ...   \n",
       "2                           Algeria       27.30    38.40    4.17     31.4   \n",
       "72                             Iraq       36.90    39.40    8.41     34.1   \n",
       "92                   Macedonia, FYR       10.40    39.80    7.09     58.1   \n",
       "34                            China       15.70    26.30    5.07     22.6   \n",
       "46                          Ecuador       25.10    27.90    8.06     32.4   \n",
       "76                          Jamaica       18.10    31.30    4.81     49.6   \n",
       "119                            Peru       20.30    27.80    5.08     23.8   \n",
       "108                         Namibia       56.00    47.80    6.78     60.7   \n",
       "45               Dominican Republic       34.40    22.70    6.22     33.3   \n",
       "9                        Azerbaijan       39.20    54.30    5.88     20.7   \n",
       "14                          Belarus        5.50    51.40    5.61     64.5   \n",
       "141  St. Vincent and the Grenadines       20.70    26.90    4.47     57.1   \n",
       "21                         Botswana       52.50    43.60    8.30     51.3   \n",
       "71                             Iran       19.30    24.40    5.60     19.4   \n",
       "104                      Montenegro        6.80    37.00    9.11     62.7   \n",
       "24                         Bulgaria       10.80    50.20    6.87     53.0   \n",
       "137                    South Africa       53.70    28.60    8.94     27.4   \n",
       "61                          Grenada       14.60    23.80    5.86     49.2   \n",
       "100                       Mauritius       15.00    51.20    6.00     62.2   \n",
       "124                         Romania       11.50    32.60    5.58     38.8   \n",
       "143                        Suriname       24.10    52.50    7.01     38.4   \n",
       "55                            Gabon       63.70    57.70    3.50     18.9   \n",
       "86                          Lebanon       10.30    35.80    7.03     60.2   \n",
       "79                       Kazakhstan       21.50    44.20    4.29     29.9   \n",
       "5                         Argentina       14.50    18.90    8.10     16.0   \n",
       "125                          Russia       10.00    29.20    5.08     21.1   \n",
       "85                           Latvia        7.80    53.70    6.68     55.1   \n",
       "4               Antigua and Barbuda       10.30    45.50    6.03     58.9   \n",
       "163                       Venezuela       17.10    28.50    4.91     17.6   \n",
       "49                Equatorial Guinea      111.00    85.80    4.48     58.9   \n",
       "\n",
       "      income  inflation  life_expec  total_fer     gdpp  ClusterID  \\\n",
       "26     764.0     12.300      57.700     6.2600    231.0          0   \n",
       "88     700.0      5.470      60.800     5.0200    327.0          0   \n",
       "37     609.0     20.800      57.500     6.5400    334.0          0   \n",
       "112    814.0      2.550      58.800     6.5636    348.0          0   \n",
       "132   1220.0     17.200      55.000     5.2000    399.0          0   \n",
       "93    1390.0      8.790      60.800     4.6000    413.0          0   \n",
       "106    918.0      7.640      54.500     5.5600    419.0          0   \n",
       "31     888.0      2.010      52.352     5.2100    446.0          0   \n",
       "94    1030.0     12.100      53.100     5.3100    459.0          0   \n",
       "50    1420.0     11.600      61.700     4.6100    482.0          0   \n",
       "150   1210.0      1.180      58.700     4.8700    488.0          0   \n",
       "64    1390.0      2.970      55.600     5.0500    547.0          0   \n",
       "0     1610.0      9.440      56.200     5.8200    553.0          0   \n",
       "56    1660.0      4.300      65.500     5.7100    562.0          0   \n",
       "126   1350.0      2.610      64.600     4.5100    563.0          0   \n",
       "25    1430.0      6.810      57.900     5.8700    575.0          0   \n",
       "109   1990.0     15.100      68.300     2.6100    592.0          1   \n",
       "155   1540.0     10.600      56.800     6.1500    595.0          0   \n",
       "63    1190.0     16.100      58.000     5.3400    648.0          0   \n",
       "66    1500.0      5.450      52.352     3.3300    662.0          0   \n",
       "147   2090.0      9.250      59.300     5.4300    702.0          0   \n",
       "97    1870.0      4.370      59.500     6.5500    708.0          0   \n",
       "146   2110.0     12.500      69.600     3.5100    738.0          1   \n",
       "17    1820.0      0.885      61.800     5.3600    758.0          0   \n",
       "12    2440.0      7.140      70.400     2.3300    758.0          1   \n",
       "36    1410.0      3.870      65.900     4.7500    769.0          0   \n",
       "27    2520.0      3.120      66.100     2.8800    786.0          1   \n",
       "83    2790.0     10.000      68.500     3.1000    880.0          1   \n",
       "32    1930.0      6.390      56.500     6.5636    897.0          0   \n",
       "80    2480.0      2.090      62.800     4.3700    967.0          0   \n",
       "..       ...        ...         ...        ...      ...        ...   \n",
       "2    12900.0     16.100      76.500     2.8900   4460.0          1   \n",
       "72   12700.0     16.600      67.200     4.5600   4500.0          0   \n",
       "92   11400.0      2.040      74.000     1.4700   4540.0          1   \n",
       "34    9530.0      6.940      74.600     1.5900   4560.0          1   \n",
       "46    9350.0      7.470      76.700     2.6600   4660.0          1   \n",
       "76    8000.0      9.810      74.700     2.1700   4680.0          1   \n",
       "119   9960.0      5.710      77.900     2.5400   5020.0          1   \n",
       "108   8460.0      3.560      58.600     3.6000   5190.0          0   \n",
       "45   11100.0      5.440      74.600     2.6000   5450.0          1   \n",
       "9    16000.0     13.800      69.100     1.9200   5840.0          1   \n",
       "14   16200.0     15.100      70.400     1.4900   6030.0          1   \n",
       "141   9920.0      4.440      71.600     2.0700   6230.0          1   \n",
       "21   13300.0      8.920      57.100     2.8800   6350.0          1   \n",
       "71   17400.0     15.900      74.500     1.7600   6530.0          1   \n",
       "104  14000.0      1.600      76.400     1.7700   6680.0          1   \n",
       "24   15300.0      1.110      73.900     1.5700   6840.0          1   \n",
       "137  12000.0      6.350      54.300     2.5900   7280.0          0   \n",
       "61   11200.0      0.480      71.300     2.2400   7370.0          1   \n",
       "100  15900.0      1.130      73.400     1.5700   8000.0          1   \n",
       "124  17800.0      3.530      73.700     1.5900   8230.0          1   \n",
       "143  14200.0      7.200      70.300     2.5200   8300.0          1   \n",
       "55   15400.0     16.600      62.900     4.0800   8750.0          0   \n",
       "86   16300.0      0.238      79.800     1.6100   8860.0          1   \n",
       "79   20100.0     19.500      68.400     2.6000   9070.0          1   \n",
       "5    18700.0     20.900      75.800     2.3700  10300.0          1   \n",
       "125  23100.0     14.200      69.200     1.5700  10700.0          1   \n",
       "85   18300.0     -0.812      73.100     1.3600  11300.0          1   \n",
       "4    19100.0      1.440      76.800     2.1300  12200.0          1   \n",
       "163  16500.0     23.626      75.400     2.4700  13500.0          1   \n",
       "49   33700.0     23.626      60.900     5.2100  17100.0          0   \n",
       "\n",
       "     cluster_labels  \n",
       "26                0  \n",
       "88                0  \n",
       "37                0  \n",
       "112               0  \n",
       "132               0  \n",
       "93                0  \n",
       "106               0  \n",
       "31                0  \n",
       "94                0  \n",
       "50                0  \n",
       "150               0  \n",
       "64                0  \n",
       "0                 0  \n",
       "56                0  \n",
       "126               0  \n",
       "25                0  \n",
       "109               0  \n",
       "155               0  \n",
       "63                0  \n",
       "66                0  \n",
       "147               0  \n",
       "97                0  \n",
       "146               0  \n",
       "17                0  \n",
       "12                0  \n",
       "36                0  \n",
       "27                0  \n",
       "83                0  \n",
       "32                0  \n",
       "80                0  \n",
       "..              ...  \n",
       "2                 0  \n",
       "72                0  \n",
       "92                0  \n",
       "34                0  \n",
       "46                0  \n",
       "76                0  \n",
       "119               0  \n",
       "108               0  \n",
       "45                0  \n",
       "9                 0  \n",
       "14                0  \n",
       "141               0  \n",
       "21                0  \n",
       "71                0  \n",
       "104               0  \n",
       "24                0  \n",
       "137               0  \n",
       "61                0  \n",
       "100               0  \n",
       "124               0  \n",
       "143               0  \n",
       "55                0  \n",
       "86                0  \n",
       "79                0  \n",
       "5                 0  \n",
       "125               0  \n",
       "85                0  \n",
       "4                 0  \n",
       "163               0  \n",
       "49                0  \n",
       "\n",
       "[107 rows x 12 columns]"
      ]
     },
     "execution_count": 73,
     "metadata": {},
     "output_type": "execute_result"
    }
   ],
   "source": [
    "dat5[dat5['cluster_labels']==0].sort_values(by=['gdpp','child_mort','income'], ascending=[ True, False, True]) \n",
    "# sorted the values for 5 countries"
   ]
  },
  {
   "cell_type": "code",
   "execution_count": null,
   "metadata": {},
   "outputs": [],
   "source": []
  }
 ],
 "metadata": {
  "kernelspec": {
   "display_name": "Python 3",
   "language": "python",
   "name": "python3"
  },
  "language_info": {
   "codemirror_mode": {
    "name": "ipython",
    "version": 3
   },
   "file_extension": ".py",
   "mimetype": "text/x-python",
   "name": "python",
   "nbconvert_exporter": "python",
   "pygments_lexer": "ipython3",
   "version": "3.7.3"
  }
 },
 "nbformat": 4,
 "nbformat_minor": 2
}
